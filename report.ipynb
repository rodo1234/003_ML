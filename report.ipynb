{
 "cells": [
  {
   "cell_type": "code",
   "execution_count": 1,
   "id": "initial_id",
   "metadata": {
    "collapsed": true,
    "ExecuteTime": {
     "end_time": "2024-03-10T01:04:03.776844Z",
     "start_time": "2024-03-10T01:04:02.556715Z"
    }
   },
   "outputs": [],
   "source": [
    "import numpy as np\n",
    "from machine_learning.xgb_def import XGBOptimizer\n",
    "from machine_learning.reglog_def import REGLOGOptimizer\n",
    "import pandas as pd\n",
    "from opt_funct.data_fuct import functions\n",
    "from sklearn.model_selection import train_test_split\n",
    "import time\n",
    "import optuna\n",
    "from sklearn.metrics import f1_score, classification_report\n",
    "from machine_learning.combination1 import Combined_xgb_logreg\n",
    "from machine_learning.SVM_defopt import SVMOptimizer\n",
    "from itertools import combinations\n",
    "from opt_funct.data_fuct import Operation\n",
    "from sklearn.preprocessing import StandardScaler"
   ]
  },
  {
   "cell_type": "markdown",
   "source": [],
   "metadata": {
    "collapsed": false
   },
   "id": "1dc2c991de0a4e22"
  },
  {
   "cell_type": "code",
   "execution_count": 2,
   "outputs": [
    {
     "data": {
      "text/plain": "       Unnamed: 0   Timestamp  Gmtoffset             Datetime        Open  \\\n0               0  1609770600          0  2021-01-04 14:30:00  133.570007   \n1               1  1609770900          0  2021-01-04 14:35:00  132.750000   \n2               2  1609771200          0  2021-01-04 14:40:00  131.500000   \n3               3  1609771500          0  2021-01-04 14:45:00  132.000000   \n4               4  1609771800          0  2021-01-04 14:50:00  132.000000   \n...           ...         ...        ...                  ...         ...   \n39574       19788  1672432800          0  2022-12-30 20:40:00  129.029998   \n39575       19789  1672433100          0  2022-12-30 20:45:00  129.059997   \n39576       19790  1672433400          0  2022-12-30 20:50:00  129.375000   \n39577       19791  1672433700          0  2022-12-30 20:55:00  129.764999   \n39578       19792  1672434000          0  2022-12-30 21:00:00  129.929992   \n\n             High         Low       Close     Volume       X_t-1       X_t-2  \\\n0      133.611602  132.389999  132.809997  6624663.0         NaN         NaN   \n1      132.750000  131.809997  131.889999  2541553.0  132.809997         NaN   \n2      132.339996  131.500000  132.059997  2492415.0  131.889999  132.809997   \n3      132.250000  131.899993  132.250000  1859131.0  132.059997  131.889999   \n4      132.018096  131.520004  131.589996  1780105.0  132.250000  132.059997   \n...           ...         ...         ...        ...         ...         ...   \n39574  129.130004  128.919998  129.054992   833767.0  129.039993  129.020004   \n39575  129.399993  129.020004  129.380004  2136910.0  129.054992  129.039993   \n39576  129.929992  129.330001  129.764404  2879267.0  129.380004  129.054992   \n39577  129.949996  129.619995  129.949996  3896812.0  129.764404  129.380004   \n39578  129.929992  129.929992  129.929992        NaN  129.949996  129.764404   \n\n            X_t-3        Pt_5        RSI  Y_BUY  Y_SELL  \n0             NaN  131.448898        NaN  False    True  \n1             NaN  131.119995        NaN  False    True  \n2             NaN  130.875000        NaN  False    True  \n3      132.809997  130.509902        NaN  False    True  \n4      131.889999  130.889999        NaN  False    True  \n...           ...         ...        ...    ...     ...  \n39574  128.910003         NaN  56.509324  False   False  \n39575  129.020004         NaN  60.700323  False   False  \n39576  129.039993         NaN  64.854367  False   False  \n39577  129.054992         NaN  66.620919  False   False  \n39578  129.380004         NaN  66.248712  False   False  \n\n[39579 rows x 16 columns]",
      "text/html": "<div>\n<style scoped>\n    .dataframe tbody tr th:only-of-type {\n        vertical-align: middle;\n    }\n\n    .dataframe tbody tr th {\n        vertical-align: top;\n    }\n\n    .dataframe thead th {\n        text-align: right;\n    }\n</style>\n<table border=\"1\" class=\"dataframe\">\n  <thead>\n    <tr style=\"text-align: right;\">\n      <th></th>\n      <th>Unnamed: 0</th>\n      <th>Timestamp</th>\n      <th>Gmtoffset</th>\n      <th>Datetime</th>\n      <th>Open</th>\n      <th>High</th>\n      <th>Low</th>\n      <th>Close</th>\n      <th>Volume</th>\n      <th>X_t-1</th>\n      <th>X_t-2</th>\n      <th>X_t-3</th>\n      <th>Pt_5</th>\n      <th>RSI</th>\n      <th>Y_BUY</th>\n      <th>Y_SELL</th>\n    </tr>\n  </thead>\n  <tbody>\n    <tr>\n      <th>0</th>\n      <td>0</td>\n      <td>1609770600</td>\n      <td>0</td>\n      <td>2021-01-04 14:30:00</td>\n      <td>133.570007</td>\n      <td>133.611602</td>\n      <td>132.389999</td>\n      <td>132.809997</td>\n      <td>6624663.0</td>\n      <td>NaN</td>\n      <td>NaN</td>\n      <td>NaN</td>\n      <td>131.448898</td>\n      <td>NaN</td>\n      <td>False</td>\n      <td>True</td>\n    </tr>\n    <tr>\n      <th>1</th>\n      <td>1</td>\n      <td>1609770900</td>\n      <td>0</td>\n      <td>2021-01-04 14:35:00</td>\n      <td>132.750000</td>\n      <td>132.750000</td>\n      <td>131.809997</td>\n      <td>131.889999</td>\n      <td>2541553.0</td>\n      <td>132.809997</td>\n      <td>NaN</td>\n      <td>NaN</td>\n      <td>131.119995</td>\n      <td>NaN</td>\n      <td>False</td>\n      <td>True</td>\n    </tr>\n    <tr>\n      <th>2</th>\n      <td>2</td>\n      <td>1609771200</td>\n      <td>0</td>\n      <td>2021-01-04 14:40:00</td>\n      <td>131.500000</td>\n      <td>132.339996</td>\n      <td>131.500000</td>\n      <td>132.059997</td>\n      <td>2492415.0</td>\n      <td>131.889999</td>\n      <td>132.809997</td>\n      <td>NaN</td>\n      <td>130.875000</td>\n      <td>NaN</td>\n      <td>False</td>\n      <td>True</td>\n    </tr>\n    <tr>\n      <th>3</th>\n      <td>3</td>\n      <td>1609771500</td>\n      <td>0</td>\n      <td>2021-01-04 14:45:00</td>\n      <td>132.000000</td>\n      <td>132.250000</td>\n      <td>131.899993</td>\n      <td>132.250000</td>\n      <td>1859131.0</td>\n      <td>132.059997</td>\n      <td>131.889999</td>\n      <td>132.809997</td>\n      <td>130.509902</td>\n      <td>NaN</td>\n      <td>False</td>\n      <td>True</td>\n    </tr>\n    <tr>\n      <th>4</th>\n      <td>4</td>\n      <td>1609771800</td>\n      <td>0</td>\n      <td>2021-01-04 14:50:00</td>\n      <td>132.000000</td>\n      <td>132.018096</td>\n      <td>131.520004</td>\n      <td>131.589996</td>\n      <td>1780105.0</td>\n      <td>132.250000</td>\n      <td>132.059997</td>\n      <td>131.889999</td>\n      <td>130.889999</td>\n      <td>NaN</td>\n      <td>False</td>\n      <td>True</td>\n    </tr>\n    <tr>\n      <th>...</th>\n      <td>...</td>\n      <td>...</td>\n      <td>...</td>\n      <td>...</td>\n      <td>...</td>\n      <td>...</td>\n      <td>...</td>\n      <td>...</td>\n      <td>...</td>\n      <td>...</td>\n      <td>...</td>\n      <td>...</td>\n      <td>...</td>\n      <td>...</td>\n      <td>...</td>\n      <td>...</td>\n    </tr>\n    <tr>\n      <th>39574</th>\n      <td>19788</td>\n      <td>1672432800</td>\n      <td>0</td>\n      <td>2022-12-30 20:40:00</td>\n      <td>129.029998</td>\n      <td>129.130004</td>\n      <td>128.919998</td>\n      <td>129.054992</td>\n      <td>833767.0</td>\n      <td>129.039993</td>\n      <td>129.020004</td>\n      <td>128.910003</td>\n      <td>NaN</td>\n      <td>56.509324</td>\n      <td>False</td>\n      <td>False</td>\n    </tr>\n    <tr>\n      <th>39575</th>\n      <td>19789</td>\n      <td>1672433100</td>\n      <td>0</td>\n      <td>2022-12-30 20:45:00</td>\n      <td>129.059997</td>\n      <td>129.399993</td>\n      <td>129.020004</td>\n      <td>129.380004</td>\n      <td>2136910.0</td>\n      <td>129.054992</td>\n      <td>129.039993</td>\n      <td>129.020004</td>\n      <td>NaN</td>\n      <td>60.700323</td>\n      <td>False</td>\n      <td>False</td>\n    </tr>\n    <tr>\n      <th>39576</th>\n      <td>19790</td>\n      <td>1672433400</td>\n      <td>0</td>\n      <td>2022-12-30 20:50:00</td>\n      <td>129.375000</td>\n      <td>129.929992</td>\n      <td>129.330001</td>\n      <td>129.764404</td>\n      <td>2879267.0</td>\n      <td>129.380004</td>\n      <td>129.054992</td>\n      <td>129.039993</td>\n      <td>NaN</td>\n      <td>64.854367</td>\n      <td>False</td>\n      <td>False</td>\n    </tr>\n    <tr>\n      <th>39577</th>\n      <td>19791</td>\n      <td>1672433700</td>\n      <td>0</td>\n      <td>2022-12-30 20:55:00</td>\n      <td>129.764999</td>\n      <td>129.949996</td>\n      <td>129.619995</td>\n      <td>129.949996</td>\n      <td>3896812.0</td>\n      <td>129.764404</td>\n      <td>129.380004</td>\n      <td>129.054992</td>\n      <td>NaN</td>\n      <td>66.620919</td>\n      <td>False</td>\n      <td>False</td>\n    </tr>\n    <tr>\n      <th>39578</th>\n      <td>19792</td>\n      <td>1672434000</td>\n      <td>0</td>\n      <td>2022-12-30 21:00:00</td>\n      <td>129.929992</td>\n      <td>129.929992</td>\n      <td>129.929992</td>\n      <td>129.929992</td>\n      <td>NaN</td>\n      <td>129.949996</td>\n      <td>129.764404</td>\n      <td>129.380004</td>\n      <td>NaN</td>\n      <td>66.248712</td>\n      <td>False</td>\n      <td>False</td>\n    </tr>\n  </tbody>\n</table>\n<p>39579 rows × 16 columns</p>\n</div>"
     },
     "execution_count": 2,
     "metadata": {},
     "output_type": "execute_result"
    }
   ],
   "source": [
    "df = functions.clean_ds(pd.read_csv('./data/aapl_5m_train.csv'))\n",
    "df"
   ],
   "metadata": {
    "collapsed": false,
    "ExecuteTime": {
     "end_time": "2024-03-10T01:04:05.414416Z",
     "start_time": "2024-03-10T01:04:05.351389Z"
    }
   },
   "id": "570e764aa7a0ecce"
  },
  {
   "cell_type": "markdown",
   "source": [
    "**Entrenamos nuestros modelos para compra y venta**"
   ],
   "metadata": {
    "collapsed": false
   },
   "id": "d323bfcca07ea974"
  },
  {
   "cell_type": "code",
   "execution_count": 5,
   "outputs": [],
   "source": [
    "# Buy\n",
    "close_data = df[['Timestamp','Close', 'X_t-1', 'X_t-2', 'X_t-3', 'RSI', 'Y_BUY']].dropna()\n",
    "x = close_data.drop(columns=['Y_BUY'])\n",
    "y = close_data[['Y_BUY']]\n",
    "x_train_buy, x_test_buy, y_train_buy, y_test_buy = train_test_split(x, y, test_size=0.3, shuffle=False)\n",
    "\n",
    "close_data2 = df[['Timestamp','Close', 'X_t-1', 'X_t-2', 'X_t-3', 'RSI', 'Y_SELL']].dropna()\n",
    "x = close_data2.drop(columns=['Y_SELL'])\n",
    "y = close_data2[['Y_SELL']]\n",
    "x_train_sell, x_test_sell, y_train_sell, y_test_sell = train_test_split(x, y, test_size=0.3, shuffle=False)"
   ],
   "metadata": {
    "collapsed": false,
    "ExecuteTime": {
     "end_time": "2024-03-10T01:04:42.835810Z",
     "start_time": "2024-03-10T01:04:42.801459Z"
    }
   },
   "id": "5c75d6af000f82f8"
  },
  {
   "cell_type": "code",
   "execution_count": 6,
   "outputs": [],
   "source": [
    "# Escalado para el conjunto de compra\n",
    "scaler_buy = StandardScaler()\n",
    "x_train_buy_scaled = scaler_buy.fit_transform(x_train_buy)\n",
    "x_test_buy_scaled = scaler_buy.transform(x_test_buy)\n",
    "\n",
    "# Escalado para el conjunto de venta\n",
    "scaler_sell = StandardScaler()\n",
    "x_train_sell_scaled = scaler_sell.fit_transform(x_train_sell)\n",
    "x_test_sell_scaled = scaler_sell.transform(x_test_sell)"
   ],
   "metadata": {
    "collapsed": false,
    "ExecuteTime": {
     "end_time": "2024-03-10T01:04:45.629594Z",
     "start_time": "2024-03-10T01:04:45.614533Z"
    }
   },
   "id": "7259499b192d99f8"
  },
  {
   "cell_type": "code",
   "execution_count": 7,
   "outputs": [
    {
     "name": "stderr",
     "output_type": "stream",
     "text": [
      "[I 2024-03-09 19:04:50,122] A new study created in memory with name: no-name-2e222307-e683-40bd-9016-816c92a81bc9\n",
      "/Users/rixon/anaconda3/lib/python3.11/site-packages/xgboost/core.py:160: UserWarning: [19:04:50] WARNING: /Users/runner/work/xgboost/xgboost/src/learner.cc:742: \n",
      "Parameters: { \"gamma\", \"max_depth\", \"max_leaves\" } are not used.\n",
      "\n",
      "  warnings.warn(smsg, UserWarning)\n",
      "[I 2024-03-09 19:04:50,169] Trial 0 finished with value: 0.678879670360265 and parameters: {'n_estimators': 14, 'max_depth': 11, 'max_leaves': 65, 'learning_rate': 0.6613635401477155, 'booster': 'gblinear', 'gamma': 36.22897378706918, 'reg_alpha': 8.588477054030976, 'reg_lambda': 6.659685245474945}. Best is trial 0 with value: 0.678879670360265.\n",
      "/Users/rixon/anaconda3/lib/python3.11/site-packages/xgboost/core.py:160: UserWarning: [19:04:50] WARNING: /Users/runner/work/xgboost/xgboost/src/learner.cc:742: \n",
      "Parameters: { \"gamma\", \"max_depth\", \"max_leaves\" } are not used.\n",
      "\n",
      "  warnings.warn(smsg, UserWarning)\n",
      "[I 2024-03-09 19:04:50,256] Trial 1 finished with value: 0.678879670360265 and parameters: {'n_estimators': 107, 'max_depth': 64, 'max_leaves': 36, 'learning_rate': 0.3112594148710813, 'booster': 'gblinear', 'gamma': 12.235882435658723, 'reg_alpha': 5.262584897558931, 'reg_lambda': 6.42435297329802}. Best is trial 0 with value: 0.678879670360265.\n",
      "[I 2024-03-09 19:04:59,334] Trial 2 finished with value: 0.678879670360265 and parameters: {'n_estimators': 147, 'max_depth': 19, 'max_leaves': 98, 'learning_rate': 1.899348266686263, 'booster': 'dart', 'gamma': 48.78201134052885, 'reg_alpha': 7.035410959890675, 'reg_lambda': 8.635345092194202}. Best is trial 0 with value: 0.678879670360265.\n",
      "/Users/rixon/anaconda3/lib/python3.11/site-packages/xgboost/core.py:160: UserWarning: [19:04:59] WARNING: /Users/runner/work/xgboost/xgboost/src/learner.cc:742: \n",
      "Parameters: { \"gamma\", \"max_depth\", \"max_leaves\" } are not used.\n",
      "\n",
      "  warnings.warn(smsg, UserWarning)\n",
      "[I 2024-03-09 19:04:59,349] Trial 3 finished with value: 0.678879670360265 and parameters: {'n_estimators': 5, 'max_depth': 89, 'max_leaves': 12, 'learning_rate': 0.5388394231703876, 'booster': 'gblinear', 'gamma': 35.877921383491206, 'reg_alpha': 4.879500442596665, 'reg_lambda': 5.067633026320352}. Best is trial 0 with value: 0.678879670360265.\n",
      "[I 2024-03-09 19:05:00,562] Trial 4 finished with value: 0.3371630578877596 and parameters: {'n_estimators': 51, 'max_depth': 6, 'max_leaves': 15, 'learning_rate': 0.2527299286376151, 'booster': 'dart', 'gamma': 0.6987188335842048, 'reg_alpha': 1.8000906856011814, 'reg_lambda': 1.3443044463091742}. Best is trial 0 with value: 0.678879670360265.\n",
      "/Users/rixon/anaconda3/lib/python3.11/site-packages/xgboost/core.py:160: UserWarning: [19:05:00] WARNING: /Users/runner/work/xgboost/xgboost/src/learner.cc:742: \n",
      "Parameters: { \"gamma\", \"max_depth\", \"max_leaves\" } are not used.\n",
      "\n",
      "  warnings.warn(smsg, UserWarning)\n",
      "[I 2024-03-09 19:05:00,633] Trial 5 finished with value: 0.678879670360265 and parameters: {'n_estimators': 76, 'max_depth': 40, 'max_leaves': 46, 'learning_rate': 1.4349872076262162, 'booster': 'gblinear', 'gamma': 15.023082009444803, 'reg_alpha': 2.382630880814163, 'reg_lambda': 6.199588770524515}. Best is trial 0 with value: 0.678879670360265.\n",
      "/Users/rixon/anaconda3/lib/python3.11/site-packages/xgboost/core.py:160: UserWarning: [19:05:00] WARNING: /Users/runner/work/xgboost/xgboost/src/learner.cc:742: \n",
      "Parameters: { \"gamma\", \"max_depth\", \"max_leaves\" } are not used.\n",
      "\n",
      "  warnings.warn(smsg, UserWarning)\n",
      "[I 2024-03-09 19:05:00,671] Trial 6 finished with value: 0.678879670360265 and parameters: {'n_estimators': 32, 'max_depth': 31, 'max_leaves': 64, 'learning_rate': 0.7447003655076718, 'booster': 'gblinear', 'gamma': 21.88367015951671, 'reg_alpha': 9.445157358779765, 'reg_lambda': 0.7320589866431629}. Best is trial 0 with value: 0.678879670360265.\n",
      "/Users/rixon/anaconda3/lib/python3.11/site-packages/xgboost/core.py:160: UserWarning: [19:05:00] WARNING: /Users/runner/work/xgboost/xgboost/src/learner.cc:742: \n",
      "Parameters: { \"gamma\", \"max_depth\", \"max_leaves\" } are not used.\n",
      "\n",
      "  warnings.warn(smsg, UserWarning)\n",
      "[I 2024-03-09 19:05:00,793] Trial 7 finished with value: 0.678879670360265 and parameters: {'n_estimators': 123, 'max_depth': 63, 'max_leaves': 69, 'learning_rate': 1.5293224051067975, 'booster': 'gblinear', 'gamma': 12.588903470446853, 'reg_alpha': 5.713399889313211, 'reg_lambda': 5.90121999177961}. Best is trial 0 with value: 0.678879670360265.\n",
      "[I 2024-03-09 19:05:00,828] Trial 8 finished with value: 0.678879670360265 and parameters: {'n_estimators': 5, 'max_depth': 27, 'max_leaves': 95, 'learning_rate': 1.3552113405657866, 'booster': 'gbtree', 'gamma': 27.60264686438024, 'reg_alpha': 0.9935265090949735, 'reg_lambda': 5.2661587058934165}. Best is trial 0 with value: 0.678879670360265.\n",
      "[I 2024-03-09 19:05:00,867] Trial 9 finished with value: 0.678879670360265 and parameters: {'n_estimators': 6, 'max_depth': 55, 'max_leaves': 5, 'learning_rate': 1.2729793298693715, 'booster': 'dart', 'gamma': 48.118624868605174, 'reg_alpha': 6.696056696119783, 'reg_lambda': 7.4526393787013125}. Best is trial 0 with value: 0.678879670360265.\n",
      "/Users/rixon/anaconda3/lib/python3.11/site-packages/xgboost/core.py:160: UserWarning: [19:05:00] WARNING: /Users/runner/work/xgboost/xgboost/src/learner.cc:742: \n",
      "Parameters: { \"gamma\", \"max_depth\", \"max_leaves\" } are not used.\n",
      "\n",
      "  warnings.warn(smsg, UserWarning)\n",
      "[I 2024-03-09 19:05:00,883] A new study created in memory with name: no-name-a4674c20-793a-43ee-8436-bae06655219f\n",
      "/Users/rixon/anaconda3/lib/python3.11/site-packages/sklearn/utils/validation.py:1184: DataConversionWarning: A column-vector y was passed when a 1d array was expected. Please change the shape of y to (n_samples, ), for example using ravel().\n",
      "  y = column_or_1d(y, warn=True)\n"
     ]
    },
    {
     "name": "stdout",
     "output_type": "stream",
     "text": [
      "F1: 0.678879670360265\n",
      "Best hyperparameters: {'n_estimators': 14, 'max_depth': 11, 'max_leaves': 65, 'learning_rate': 0.6613635401477155, 'booster': 'gblinear', 'gamma': 36.22897378706918, 'reg_alpha': 8.588477054030976, 'reg_lambda': 6.659685245474945}\n",
      "Execution time: 0.17911348740259805 minutes\n"
     ]
    },
    {
     "name": "stderr",
     "output_type": "stream",
     "text": [
      "[I 2024-03-09 19:05:19,913] Trial 0 finished with value: 0.678879670360265 and parameters: {'C': 9.00489091918956, 'fit_intercept': False, 'l1_ratio': 0.3822485270472161}. Best is trial 0 with value: 0.678879670360265.\n",
      "/Users/rixon/anaconda3/lib/python3.11/site-packages/sklearn/utils/validation.py:1184: DataConversionWarning: A column-vector y was passed when a 1d array was expected. Please change the shape of y to (n_samples, ), for example using ravel().\n",
      "  y = column_or_1d(y, warn=True)\n",
      "[I 2024-03-09 19:05:39,121] Trial 1 finished with value: 0.678879670360265 and parameters: {'C': 9.61226185632867, 'fit_intercept': False, 'l1_ratio': 0.7467829015058945}. Best is trial 0 with value: 0.678879670360265.\n",
      "/Users/rixon/anaconda3/lib/python3.11/site-packages/sklearn/utils/validation.py:1184: DataConversionWarning: A column-vector y was passed when a 1d array was expected. Please change the shape of y to (n_samples, ), for example using ravel().\n",
      "  y = column_or_1d(y, warn=True)\n",
      "[I 2024-03-09 19:05:58,307] Trial 2 finished with value: 0.678879670360265 and parameters: {'C': 0.5660775210953733, 'fit_intercept': False, 'l1_ratio': 0.1395439810470871}. Best is trial 0 with value: 0.678879670360265.\n",
      "/Users/rixon/anaconda3/lib/python3.11/site-packages/sklearn/utils/validation.py:1184: DataConversionWarning: A column-vector y was passed when a 1d array was expected. Please change the shape of y to (n_samples, ), for example using ravel().\n",
      "  y = column_or_1d(y, warn=True)\n",
      "[I 2024-03-09 19:06:17,104] Trial 3 finished with value: 0.678879670360265 and parameters: {'C': 1.5730296397958252, 'fit_intercept': False, 'l1_ratio': 0.23656471308365656}. Best is trial 0 with value: 0.678879670360265.\n",
      "/Users/rixon/anaconda3/lib/python3.11/site-packages/sklearn/utils/validation.py:1184: DataConversionWarning: A column-vector y was passed when a 1d array was expected. Please change the shape of y to (n_samples, ), for example using ravel().\n",
      "  y = column_or_1d(y, warn=True)\n",
      "[I 2024-03-09 19:06:36,827] Trial 4 finished with value: 0.678879670360265 and parameters: {'C': 2.8315032679762018, 'fit_intercept': True, 'l1_ratio': 0.6445674798813745}. Best is trial 0 with value: 0.678879670360265.\n",
      "/Users/rixon/anaconda3/lib/python3.11/site-packages/sklearn/utils/validation.py:1184: DataConversionWarning: A column-vector y was passed when a 1d array was expected. Please change the shape of y to (n_samples, ), for example using ravel().\n",
      "  y = column_or_1d(y, warn=True)\n",
      "[I 2024-03-09 19:06:55,374] Trial 5 finished with value: 0.678879670360265 and parameters: {'C': 2.5032973742884908, 'fit_intercept': False, 'l1_ratio': 0.7534956347460774}. Best is trial 0 with value: 0.678879670360265.\n",
      "/Users/rixon/anaconda3/lib/python3.11/site-packages/sklearn/utils/validation.py:1184: DataConversionWarning: A column-vector y was passed when a 1d array was expected. Please change the shape of y to (n_samples, ), for example using ravel().\n",
      "  y = column_or_1d(y, warn=True)\n",
      "[I 2024-03-09 19:07:14,004] Trial 6 finished with value: 0.678879670360265 and parameters: {'C': 7.633640761512748, 'fit_intercept': False, 'l1_ratio': 0.9713788286574456}. Best is trial 0 with value: 0.678879670360265.\n",
      "/Users/rixon/anaconda3/lib/python3.11/site-packages/sklearn/utils/validation.py:1184: DataConversionWarning: A column-vector y was passed when a 1d array was expected. Please change the shape of y to (n_samples, ), for example using ravel().\n",
      "  y = column_or_1d(y, warn=True)\n",
      "[I 2024-03-09 19:07:32,494] Trial 7 finished with value: 0.678879670360265 and parameters: {'C': 6.2311880766052, 'fit_intercept': False, 'l1_ratio': 0.5159067233473758}. Best is trial 0 with value: 0.678879670360265.\n",
      "/Users/rixon/anaconda3/lib/python3.11/site-packages/sklearn/utils/validation.py:1184: DataConversionWarning: A column-vector y was passed when a 1d array was expected. Please change the shape of y to (n_samples, ), for example using ravel().\n",
      "  y = column_or_1d(y, warn=True)\n",
      "[I 2024-03-09 19:07:50,927] Trial 8 finished with value: 0.678879670360265 and parameters: {'C': 5.675889564925231, 'fit_intercept': False, 'l1_ratio': 0.6329692217594469}. Best is trial 0 with value: 0.678879670360265.\n",
      "/Users/rixon/anaconda3/lib/python3.11/site-packages/sklearn/utils/validation.py:1184: DataConversionWarning: A column-vector y was passed when a 1d array was expected. Please change the shape of y to (n_samples, ), for example using ravel().\n",
      "  y = column_or_1d(y, warn=True)\n",
      "[I 2024-03-09 19:08:09,355] Trial 9 finished with value: 0.678879670360265 and parameters: {'C': 8.803772750579531, 'fit_intercept': False, 'l1_ratio': 0.16970631426010918}. Best is trial 0 with value: 0.678879670360265.\n",
      "/Users/rixon/anaconda3/lib/python3.11/site-packages/sklearn/linear_model/_logistic.py:1171: UserWarning: l1_ratio parameter is only used when penalty is 'elasticnet'. Got (penalty=l2)\n",
      "  warnings.warn(\n",
      "/Users/rixon/anaconda3/lib/python3.11/site-packages/sklearn/utils/validation.py:1184: DataConversionWarning: A column-vector y was passed when a 1d array was expected. Please change the shape of y to (n_samples, ), for example using ravel().\n",
      "  y = column_or_1d(y, warn=True)\n",
      "[I 2024-03-09 19:08:09,397] A new study created in memory with name: no-name-7bbedd7f-bb4c-4f85-b612-94587ce09d4e\n",
      "/Users/rixon/anaconda3/lib/python3.11/site-packages/sklearn/utils/validation.py:1184: DataConversionWarning: A column-vector y was passed when a 1d array was expected. Please change the shape of y to (n_samples, ), for example using ravel().\n",
      "  y = column_or_1d(y, warn=True)\n"
     ]
    },
    {
     "name": "stdout",
     "output_type": "stream",
     "text": [
      "F1 Score: 0.678879670360265\n",
      "Best hyperparameters: {'C': 9.00489091918956, 'fit_intercept': False, 'l1_ratio': 0.3822485270472161}\n",
      "Execution time: 3.1412082354227704 minutes\n"
     ]
    },
    {
     "name": "stderr",
     "output_type": "stream",
     "text": [
      "/Users/rixon/anaconda3/lib/python3.11/site-packages/sklearn/svm/_base.py:297: ConvergenceWarning: Solver terminated early (max_iter=10000).  Consider pre-processing your data with StandardScaler or MinMaxScaler.\n",
      "  warnings.warn(\n",
      "[I 2024-03-09 19:08:23,818] Trial 0 finished with value: 0.5768978819419172 and parameters: {'C': 4.420853103399049, 'kernel': 'rbf', 'degree': 5, 'gamma': 4.0}. Best is trial 0 with value: 0.5768978819419172.\n",
      "/Users/rixon/anaconda3/lib/python3.11/site-packages/sklearn/utils/validation.py:1184: DataConversionWarning: A column-vector y was passed when a 1d array was expected. Please change the shape of y to (n_samples, ), for example using ravel().\n",
      "  y = column_or_1d(y, warn=True)\n",
      "/Users/rixon/anaconda3/lib/python3.11/site-packages/sklearn/svm/_base.py:297: ConvergenceWarning: Solver terminated early (max_iter=10000).  Consider pre-processing your data with StandardScaler or MinMaxScaler.\n",
      "  warnings.warn(\n",
      "[I 2024-03-09 19:08:29,999] Trial 1 finished with value: 0.678879670360265 and parameters: {'C': 6.966254619369961, 'kernel': 'linear', 'degree': 2, 'gamma': 4.0}. Best is trial 1 with value: 0.678879670360265.\n",
      "/Users/rixon/anaconda3/lib/python3.11/site-packages/sklearn/utils/validation.py:1184: DataConversionWarning: A column-vector y was passed when a 1d array was expected. Please change the shape of y to (n_samples, ), for example using ravel().\n",
      "  y = column_or_1d(y, warn=True)\n",
      "[I 2024-03-09 19:08:40,509] Trial 2 finished with value: 0.4897610921501706 and parameters: {'C': 3.3503639833625636, 'kernel': 'sigmoid', 'degree': 5, 'gamma': 4.0}. Best is trial 1 with value: 0.678879670360265.\n",
      "/Users/rixon/anaconda3/lib/python3.11/site-packages/sklearn/utils/validation.py:1184: DataConversionWarning: A column-vector y was passed when a 1d array was expected. Please change the shape of y to (n_samples, ), for example using ravel().\n",
      "  y = column_or_1d(y, warn=True)\n",
      "/Users/rixon/anaconda3/lib/python3.11/site-packages/sklearn/svm/_base.py:297: ConvergenceWarning: Solver terminated early (max_iter=10000).  Consider pre-processing your data with StandardScaler or MinMaxScaler.\n",
      "  warnings.warn(\n",
      "[I 2024-03-09 19:08:54,858] Trial 3 finished with value: 0.46198042912290155 and parameters: {'C': 1.9495911547859304, 'kernel': 'rbf', 'degree': 2, 'gamma': 1.0}. Best is trial 1 with value: 0.678879670360265.\n",
      "/Users/rixon/anaconda3/lib/python3.11/site-packages/sklearn/utils/validation.py:1184: DataConversionWarning: A column-vector y was passed when a 1d array was expected. Please change the shape of y to (n_samples, ), for example using ravel().\n",
      "  y = column_or_1d(y, warn=True)\n",
      "/Users/rixon/anaconda3/lib/python3.11/site-packages/sklearn/svm/_base.py:297: ConvergenceWarning: Solver terminated early (max_iter=10000).  Consider pre-processing your data with StandardScaler or MinMaxScaler.\n",
      "  warnings.warn(\n",
      "[I 2024-03-09 19:09:01,894] Trial 4 finished with value: 0.6251461228731005 and parameters: {'C': 0.8821318421167567, 'kernel': 'linear', 'degree': 3, 'gamma': 'scale'}. Best is trial 1 with value: 0.678879670360265.\n",
      "/Users/rixon/anaconda3/lib/python3.11/site-packages/sklearn/utils/validation.py:1184: DataConversionWarning: A column-vector y was passed when a 1d array was expected. Please change the shape of y to (n_samples, ), for example using ravel().\n",
      "  y = column_or_1d(y, warn=True)\n",
      "/Users/rixon/anaconda3/lib/python3.11/site-packages/sklearn/svm/_base.py:297: ConvergenceWarning: Solver terminated early (max_iter=10000).  Consider pre-processing your data with StandardScaler or MinMaxScaler.\n",
      "  warnings.warn(\n",
      "[I 2024-03-09 19:09:15,941] Trial 5 finished with value: 0.28098574534911813 and parameters: {'C': 7.584786357472102, 'kernel': 'rbf', 'degree': 2, 'gamma': 5.0}. Best is trial 1 with value: 0.678879670360265.\n",
      "/Users/rixon/anaconda3/lib/python3.11/site-packages/sklearn/utils/validation.py:1184: DataConversionWarning: A column-vector y was passed when a 1d array was expected. Please change the shape of y to (n_samples, ), for example using ravel().\n",
      "  y = column_or_1d(y, warn=True)\n",
      "/Users/rixon/anaconda3/lib/python3.11/site-packages/sklearn/svm/_base.py:297: ConvergenceWarning: Solver terminated early (max_iter=10000).  Consider pre-processing your data with StandardScaler or MinMaxScaler.\n",
      "  warnings.warn(\n",
      "[I 2024-03-09 19:09:16,792] Trial 6 finished with value: 0.5448663637063853 and parameters: {'C': 9.351671828365836, 'kernel': 'poly', 'degree': 5, 'gamma': 3.0}. Best is trial 1 with value: 0.678879670360265.\n",
      "/Users/rixon/anaconda3/lib/python3.11/site-packages/sklearn/utils/validation.py:1184: DataConversionWarning: A column-vector y was passed when a 1d array was expected. Please change the shape of y to (n_samples, ), for example using ravel().\n",
      "  y = column_or_1d(y, warn=True)\n",
      "/Users/rixon/anaconda3/lib/python3.11/site-packages/sklearn/svm/_base.py:297: ConvergenceWarning: Solver terminated early (max_iter=10000).  Consider pre-processing your data with StandardScaler or MinMaxScaler.\n",
      "  warnings.warn(\n",
      "[I 2024-03-09 19:09:30,989] Trial 7 finished with value: 0.379552715654952 and parameters: {'C': 7.223644435970715, 'kernel': 'rbf', 'degree': 5, 'gamma': 3.0}. Best is trial 1 with value: 0.678879670360265.\n",
      "/Users/rixon/anaconda3/lib/python3.11/site-packages/sklearn/utils/validation.py:1184: DataConversionWarning: A column-vector y was passed when a 1d array was expected. Please change the shape of y to (n_samples, ), for example using ravel().\n",
      "  y = column_or_1d(y, warn=True)\n",
      "/Users/rixon/anaconda3/lib/python3.11/site-packages/sklearn/svm/_base.py:297: ConvergenceWarning: Solver terminated early (max_iter=10000).  Consider pre-processing your data with StandardScaler or MinMaxScaler.\n",
      "  warnings.warn(\n",
      "[I 2024-03-09 19:09:45,429] Trial 8 finished with value: 0.47364633926965277 and parameters: {'C': 7.7411115268420385, 'kernel': 'rbf', 'degree': 3, 'gamma': 1.0}. Best is trial 1 with value: 0.678879670360265.\n",
      "/Users/rixon/anaconda3/lib/python3.11/site-packages/sklearn/utils/validation.py:1184: DataConversionWarning: A column-vector y was passed when a 1d array was expected. Please change the shape of y to (n_samples, ), for example using ravel().\n",
      "  y = column_or_1d(y, warn=True)\n",
      "/Users/rixon/anaconda3/lib/python3.11/site-packages/sklearn/svm/_base.py:297: ConvergenceWarning: Solver terminated early (max_iter=10000).  Consider pre-processing your data with StandardScaler or MinMaxScaler.\n",
      "  warnings.warn(\n",
      "[I 2024-03-09 19:09:53,623] Trial 9 finished with value: 0.6777174217393739 and parameters: {'C': 0.31521766942160856, 'kernel': 'poly', 'degree': 4, 'gamma': 'scale'}. Best is trial 1 with value: 0.678879670360265.\n",
      "/Users/rixon/anaconda3/lib/python3.11/site-packages/sklearn/utils/validation.py:1184: DataConversionWarning: A column-vector y was passed when a 1d array was expected. Please change the shape of y to (n_samples, ), for example using ravel().\n",
      "  y = column_or_1d(y, warn=True)\n"
     ]
    },
    {
     "name": "stdout",
     "output_type": "stream",
     "text": [
      "F1 Score: 0.678879670360265\n",
      "Best hyperparameters: {'C': 6.966254619369961, 'kernel': 'linear', 'degree': 2, 'gamma': 4.0}\n",
      "Execution time: 1.7371129790941875 minutes\n"
     ]
    },
    {
     "name": "stderr",
     "output_type": "stream",
     "text": [
      "[I 2024-03-09 19:10:04,742] A new study created in memory with name: no-name-93712b45-1a86-4553-9aab-f27b6f1f8ae0\n",
      "[I 2024-03-09 19:10:08,486] Trial 0 finished with value: 0.0 and parameters: {'n_estimators': 94, 'max_depth': 97, 'max_leaves': 19, 'learning_rate': 1.345191708780876, 'booster': 'dart', 'gamma': 38.73426575676819, 'reg_alpha': 6.361883368319842, 'reg_lambda': 2.025911270003694}. Best is trial 0 with value: 0.0.\n",
      "/Users/rixon/anaconda3/lib/python3.11/site-packages/xgboost/core.py:160: UserWarning: [19:10:08] WARNING: /Users/runner/work/xgboost/xgboost/src/learner.cc:742: \n",
      "Parameters: { \"gamma\", \"max_depth\", \"max_leaves\" } are not used.\n",
      "\n",
      "  warnings.warn(smsg, UserWarning)\n",
      "[I 2024-03-09 19:10:08,510] Trial 1 finished with value: 0.0 and parameters: {'n_estimators': 12, 'max_depth': 56, 'max_leaves': 24, 'learning_rate': 0.46159093830988757, 'booster': 'gblinear', 'gamma': 15.892800734703718, 'reg_alpha': 9.630680608854172, 'reg_lambda': 5.1481733233505045}. Best is trial 0 with value: 0.0.\n",
      "[I 2024-03-09 19:10:08,557] Trial 2 finished with value: 0.0 and parameters: {'n_estimators': 79, 'max_depth': 48, 'max_leaves': 37, 'learning_rate': 0.7781167891289462, 'booster': 'gbtree', 'gamma': 29.315277737769655, 'reg_alpha': 0.6559598633129751, 'reg_lambda': 7.8118339017545875}. Best is trial 0 with value: 0.0.\n",
      "[I 2024-03-09 19:10:08,580] Trial 3 finished with value: 0.0 and parameters: {'n_estimators': 5, 'max_depth': 96, 'max_leaves': 24, 'learning_rate': 0.2924204877964585, 'booster': 'gbtree', 'gamma': 32.951009810742306, 'reg_alpha': 8.043978717694769, 'reg_lambda': 1.0735974941387858}. Best is trial 0 with value: 0.0.\n",
      "[I 2024-03-09 19:10:10,752] Trial 4 finished with value: 0.0 and parameters: {'n_estimators': 70, 'max_depth': 26, 'max_leaves': 60, 'learning_rate': 1.5722120317415171, 'booster': 'dart', 'gamma': 35.445651879399925, 'reg_alpha': 0.08485305003704297, 'reg_lambda': 8.244905492440628}. Best is trial 0 with value: 0.0.\n",
      "[I 2024-03-09 19:10:10,797] Trial 5 finished with value: 0.0 and parameters: {'n_estimators': 83, 'max_depth': 42, 'max_leaves': 27, 'learning_rate': 1.172571021591395, 'booster': 'gbtree', 'gamma': 43.66576800140401, 'reg_alpha': 5.0914598520749, 'reg_lambda': 7.359130757492499}. Best is trial 0 with value: 0.0.\n",
      "/Users/rixon/anaconda3/lib/python3.11/site-packages/xgboost/core.py:160: UserWarning: [19:10:10] WARNING: /Users/runner/work/xgboost/xgboost/src/learner.cc:742: \n",
      "Parameters: { \"gamma\", \"max_depth\", \"max_leaves\" } are not used.\n",
      "\n",
      "  warnings.warn(smsg, UserWarning)\n",
      "[I 2024-03-09 19:10:10,915] Trial 6 finished with value: 0.0 and parameters: {'n_estimators': 130, 'max_depth': 27, 'max_leaves': 15, 'learning_rate': 0.5181962750420579, 'booster': 'gblinear', 'gamma': 18.42792065376846, 'reg_alpha': 5.918194907076594, 'reg_lambda': 1.5513604234037932}. Best is trial 0 with value: 0.0.\n",
      "/Users/rixon/anaconda3/lib/python3.11/site-packages/xgboost/core.py:160: UserWarning: [19:10:10] WARNING: /Users/runner/work/xgboost/xgboost/src/learner.cc:742: \n",
      "Parameters: { \"gamma\", \"max_depth\", \"max_leaves\" } are not used.\n",
      "\n",
      "  warnings.warn(smsg, UserWarning)\n",
      "[I 2024-03-09 19:10:11,022] Trial 7 finished with value: 0.0 and parameters: {'n_estimators': 140, 'max_depth': 73, 'max_leaves': 98, 'learning_rate': 0.6389729006722725, 'booster': 'gblinear', 'gamma': 36.8597225374441, 'reg_alpha': 1.1421654605688092, 'reg_lambda': 6.554690114365499}. Best is trial 0 with value: 0.0.\n",
      "[I 2024-03-09 19:10:11,069] Trial 8 finished with value: 0.0 and parameters: {'n_estimators': 93, 'max_depth': 40, 'max_leaves': 83, 'learning_rate': 1.6289300275227752, 'booster': 'gbtree', 'gamma': 32.92587195363707, 'reg_alpha': 6.900934728697196, 'reg_lambda': 0.9563620211989627}. Best is trial 0 with value: 0.0.\n",
      "[I 2024-03-09 19:10:15,886] Trial 9 finished with value: 0.4660319807745633 and parameters: {'n_estimators': 104, 'max_depth': 37, 'max_leaves': 73, 'learning_rate': 0.32725866685110555, 'booster': 'dart', 'gamma': 8.860625442542869, 'reg_alpha': 8.639634765389056, 'reg_lambda': 6.6483464185123555}. Best is trial 9 with value: 0.4660319807745633.\n"
     ]
    },
    {
     "name": "stdout",
     "output_type": "stream",
     "text": [
      "F1: 0.4660319807745633\n",
      "Best hyperparameters: {'n_estimators': 104, 'max_depth': 37, 'max_leaves': 73, 'learning_rate': 0.32725866685110555, 'booster': 'dart', 'gamma': 8.860625442542869, 'reg_alpha': 8.639634765389056, 'reg_lambda': 6.6483464185123555}\n",
      "Execution time: 0.18575068712234497 minutes\n"
     ]
    },
    {
     "name": "stderr",
     "output_type": "stream",
     "text": [
      "[I 2024-03-09 19:10:20,663] A new study created in memory with name: no-name-f3f37506-d6db-48cb-8d5f-a95fddaeb15e\n",
      "/Users/rixon/anaconda3/lib/python3.11/site-packages/sklearn/utils/validation.py:1184: DataConversionWarning: A column-vector y was passed when a 1d array was expected. Please change the shape of y to (n_samples, ), for example using ravel().\n",
      "  y = column_or_1d(y, warn=True)\n",
      "[I 2024-03-09 19:10:20,782] Trial 0 finished with value: 0.0 and parameters: {'C': 0.7601284170779663, 'fit_intercept': True, 'l1_ratio': 0.8931276175110809}. Best is trial 0 with value: 0.0.\n",
      "/Users/rixon/anaconda3/lib/python3.11/site-packages/sklearn/utils/validation.py:1184: DataConversionWarning: A column-vector y was passed when a 1d array was expected. Please change the shape of y to (n_samples, ), for example using ravel().\n",
      "  y = column_or_1d(y, warn=True)\n",
      "[I 2024-03-09 19:10:20,949] Trial 1 finished with value: 0.0 and parameters: {'C': 2.0427652134261303, 'fit_intercept': True, 'l1_ratio': 0.856842895500655}. Best is trial 0 with value: 0.0.\n",
      "/Users/rixon/anaconda3/lib/python3.11/site-packages/sklearn/utils/validation.py:1184: DataConversionWarning: A column-vector y was passed when a 1d array was expected. Please change the shape of y to (n_samples, ), for example using ravel().\n",
      "  y = column_or_1d(y, warn=True)\n",
      "[I 2024-03-09 19:10:21,069] Trial 2 finished with value: 0.0 and parameters: {'C': 6.330392770276191, 'fit_intercept': False, 'l1_ratio': 0.6792715513669965}. Best is trial 0 with value: 0.0.\n",
      "/Users/rixon/anaconda3/lib/python3.11/site-packages/sklearn/utils/validation.py:1184: DataConversionWarning: A column-vector y was passed when a 1d array was expected. Please change the shape of y to (n_samples, ), for example using ravel().\n",
      "  y = column_or_1d(y, warn=True)\n",
      "[I 2024-03-09 19:10:21,201] Trial 3 finished with value: 0.0 and parameters: {'C': 7.383752572350757, 'fit_intercept': False, 'l1_ratio': 0.3588780694454652}. Best is trial 0 with value: 0.0.\n",
      "/Users/rixon/anaconda3/lib/python3.11/site-packages/sklearn/utils/validation.py:1184: DataConversionWarning: A column-vector y was passed when a 1d array was expected. Please change the shape of y to (n_samples, ), for example using ravel().\n",
      "  y = column_or_1d(y, warn=True)\n",
      "[I 2024-03-09 19:10:21,345] Trial 4 finished with value: 0.0 and parameters: {'C': 3.077948560212353, 'fit_intercept': True, 'l1_ratio': 0.21393624524340882}. Best is trial 0 with value: 0.0.\n",
      "/Users/rixon/anaconda3/lib/python3.11/site-packages/sklearn/utils/validation.py:1184: DataConversionWarning: A column-vector y was passed when a 1d array was expected. Please change the shape of y to (n_samples, ), for example using ravel().\n",
      "  y = column_or_1d(y, warn=True)\n",
      "[I 2024-03-09 19:10:21,490] Trial 5 finished with value: 0.0 and parameters: {'C': 0.110827486352043, 'fit_intercept': True, 'l1_ratio': 0.8876556305022255}. Best is trial 0 with value: 0.0.\n",
      "/Users/rixon/anaconda3/lib/python3.11/site-packages/sklearn/utils/validation.py:1184: DataConversionWarning: A column-vector y was passed when a 1d array was expected. Please change the shape of y to (n_samples, ), for example using ravel().\n",
      "  y = column_or_1d(y, warn=True)\n",
      "[I 2024-03-09 19:10:21,665] Trial 6 finished with value: 0.0 and parameters: {'C': 1.8599948033859945, 'fit_intercept': True, 'l1_ratio': 0.7815023171073833}. Best is trial 0 with value: 0.0.\n",
      "/Users/rixon/anaconda3/lib/python3.11/site-packages/sklearn/utils/validation.py:1184: DataConversionWarning: A column-vector y was passed when a 1d array was expected. Please change the shape of y to (n_samples, ), for example using ravel().\n",
      "  y = column_or_1d(y, warn=True)\n",
      "[I 2024-03-09 19:10:21,833] Trial 7 finished with value: 0.0 and parameters: {'C': 2.382714394653619, 'fit_intercept': False, 'l1_ratio': 0.41707877154497974}. Best is trial 0 with value: 0.0.\n",
      "/Users/rixon/anaconda3/lib/python3.11/site-packages/sklearn/utils/validation.py:1184: DataConversionWarning: A column-vector y was passed when a 1d array was expected. Please change the shape of y to (n_samples, ), for example using ravel().\n",
      "  y = column_or_1d(y, warn=True)\n",
      "[I 2024-03-09 19:10:21,980] Trial 8 finished with value: 0.0 and parameters: {'C': 5.3409080914053195, 'fit_intercept': False, 'l1_ratio': 0.8681922606281813}. Best is trial 0 with value: 0.0.\n",
      "/Users/rixon/anaconda3/lib/python3.11/site-packages/sklearn/utils/validation.py:1184: DataConversionWarning: A column-vector y was passed when a 1d array was expected. Please change the shape of y to (n_samples, ), for example using ravel().\n",
      "  y = column_or_1d(y, warn=True)\n",
      "[I 2024-03-09 19:10:22,125] Trial 9 finished with value: 0.0 and parameters: {'C': 2.3690197348496342, 'fit_intercept': False, 'l1_ratio': 0.7352583272465889}. Best is trial 0 with value: 0.0.\n",
      "/Users/rixon/anaconda3/lib/python3.11/site-packages/sklearn/linear_model/_logistic.py:1171: UserWarning: l1_ratio parameter is only used when penalty is 'elasticnet'. Got (penalty=l2)\n",
      "  warnings.warn(\n",
      "/Users/rixon/anaconda3/lib/python3.11/site-packages/sklearn/utils/validation.py:1184: DataConversionWarning: A column-vector y was passed when a 1d array was expected. Please change the shape of y to (n_samples, ), for example using ravel().\n",
      "  y = column_or_1d(y, warn=True)\n",
      "[I 2024-03-09 19:10:22,158] A new study created in memory with name: no-name-d675aac0-feb4-4012-8289-1e29c1459150\n",
      "/Users/rixon/anaconda3/lib/python3.11/site-packages/sklearn/utils/validation.py:1184: DataConversionWarning: A column-vector y was passed when a 1d array was expected. Please change the shape of y to (n_samples, ), for example using ravel().\n",
      "  y = column_or_1d(y, warn=True)\n"
     ]
    },
    {
     "name": "stdout",
     "output_type": "stream",
     "text": [
      "F1 Score: 0.0\n",
      "Best hyperparameters: {'C': 0.7601284170779663, 'fit_intercept': True, 'l1_ratio': 0.8931276175110809}\n",
      "Execution time: 0.024464452266693117 minutes\n"
     ]
    },
    {
     "name": "stderr",
     "output_type": "stream",
     "text": [
      "/Users/rixon/anaconda3/lib/python3.11/site-packages/sklearn/svm/_base.py:297: ConvergenceWarning: Solver terminated early (max_iter=10000).  Consider pre-processing your data with StandardScaler or MinMaxScaler.\n",
      "  warnings.warn(\n",
      "[I 2024-03-09 19:10:27,442] Trial 0 finished with value: 0.5918867050493019 and parameters: {'C': 5.248463653769732, 'kernel': 'poly', 'degree': 2, 'gamma': 1.0}. Best is trial 0 with value: 0.5918867050493019.\n",
      "/Users/rixon/anaconda3/lib/python3.11/site-packages/sklearn/utils/validation.py:1184: DataConversionWarning: A column-vector y was passed when a 1d array was expected. Please change the shape of y to (n_samples, ), for example using ravel().\n",
      "  y = column_or_1d(y, warn=True)\n",
      "/Users/rixon/anaconda3/lib/python3.11/site-packages/sklearn/svm/_base.py:297: ConvergenceWarning: Solver terminated early (max_iter=10000).  Consider pre-processing your data with StandardScaler or MinMaxScaler.\n",
      "  warnings.warn(\n",
      "[I 2024-03-09 19:10:34,864] Trial 1 finished with value: 0.0027879421502003832 and parameters: {'C': 0.2384484272146064, 'kernel': 'linear', 'degree': 5, 'gamma': 'auto'}. Best is trial 0 with value: 0.5918867050493019.\n",
      "/Users/rixon/anaconda3/lib/python3.11/site-packages/sklearn/utils/validation.py:1184: DataConversionWarning: A column-vector y was passed when a 1d array was expected. Please change the shape of y to (n_samples, ), for example using ravel().\n",
      "  y = column_or_1d(y, warn=True)\n",
      "/Users/rixon/anaconda3/lib/python3.11/site-packages/sklearn/svm/_base.py:297: ConvergenceWarning: Solver terminated early (max_iter=10000).  Consider pre-processing your data with StandardScaler or MinMaxScaler.\n",
      "  warnings.warn(\n",
      "[I 2024-03-09 19:10:41,740] Trial 2 finished with value: 0.6097322649990229 and parameters: {'C': 3.6361277304288784, 'kernel': 'linear', 'degree': 2, 'gamma': 'auto'}. Best is trial 2 with value: 0.6097322649990229.\n",
      "/Users/rixon/anaconda3/lib/python3.11/site-packages/sklearn/utils/validation.py:1184: DataConversionWarning: A column-vector y was passed when a 1d array was expected. Please change the shape of y to (n_samples, ), for example using ravel().\n",
      "  y = column_or_1d(y, warn=True)\n",
      "/Users/rixon/anaconda3/lib/python3.11/site-packages/sklearn/svm/_base.py:297: ConvergenceWarning: Solver terminated early (max_iter=10000).  Consider pre-processing your data with StandardScaler or MinMaxScaler.\n",
      "  warnings.warn(\n",
      "[I 2024-03-09 19:10:49,990] Trial 3 finished with value: 0.6245083579154376 and parameters: {'C': 2.6641545065835452, 'kernel': 'poly', 'degree': 2, 'gamma': 'scale'}. Best is trial 3 with value: 0.6245083579154376.\n",
      "/Users/rixon/anaconda3/lib/python3.11/site-packages/sklearn/utils/validation.py:1184: DataConversionWarning: A column-vector y was passed when a 1d array was expected. Please change the shape of y to (n_samples, ), for example using ravel().\n",
      "  y = column_or_1d(y, warn=True)\n",
      "[I 2024-03-09 19:10:59,910] Trial 4 finished with value: 0.46293411527535966 and parameters: {'C': 6.419950763911025, 'kernel': 'sigmoid', 'degree': 3, 'gamma': 2.0}. Best is trial 3 with value: 0.6245083579154376.\n",
      "/Users/rixon/anaconda3/lib/python3.11/site-packages/sklearn/utils/validation.py:1184: DataConversionWarning: A column-vector y was passed when a 1d array was expected. Please change the shape of y to (n_samples, ), for example using ravel().\n",
      "  y = column_or_1d(y, warn=True)\n",
      "/Users/rixon/anaconda3/lib/python3.11/site-packages/sklearn/svm/_base.py:297: ConvergenceWarning: Solver terminated early (max_iter=10000).  Consider pre-processing your data with StandardScaler or MinMaxScaler.\n",
      "  warnings.warn(\n",
      "[I 2024-03-09 19:11:02,673] Trial 5 finished with value: 0.6126345463864685 and parameters: {'C': 2.5485731296644047, 'kernel': 'poly', 'degree': 5, 'gamma': 'scale'}. Best is trial 3 with value: 0.6245083579154376.\n",
      "/Users/rixon/anaconda3/lib/python3.11/site-packages/sklearn/utils/validation.py:1184: DataConversionWarning: A column-vector y was passed when a 1d array was expected. Please change the shape of y to (n_samples, ), for example using ravel().\n",
      "  y = column_or_1d(y, warn=True)\n",
      "/Users/rixon/anaconda3/lib/python3.11/site-packages/sklearn/svm/_base.py:297: ConvergenceWarning: Solver terminated early (max_iter=10000).  Consider pre-processing your data with StandardScaler or MinMaxScaler.\n",
      "  warnings.warn(\n",
      "[I 2024-03-09 19:11:03,521] Trial 6 finished with value: 0.23861810391001606 and parameters: {'C': 0.4278909926115596, 'kernel': 'poly', 'degree': 3, 'gamma': 4.0}. Best is trial 3 with value: 0.6245083579154376.\n",
      "/Users/rixon/anaconda3/lib/python3.11/site-packages/sklearn/utils/validation.py:1184: DataConversionWarning: A column-vector y was passed when a 1d array was expected. Please change the shape of y to (n_samples, ), for example using ravel().\n",
      "  y = column_or_1d(y, warn=True)\n",
      "/Users/rixon/anaconda3/lib/python3.11/site-packages/sklearn/svm/_base.py:297: ConvergenceWarning: Solver terminated early (max_iter=10000).  Consider pre-processing your data with StandardScaler or MinMaxScaler.\n",
      "  warnings.warn(\n",
      "[I 2024-03-09 19:11:18,012] Trial 7 finished with value: 0.5289941772353832 and parameters: {'C': 2.814353679232656, 'kernel': 'rbf', 'degree': 4, 'gamma': 1.0}. Best is trial 3 with value: 0.6245083579154376.\n",
      "/Users/rixon/anaconda3/lib/python3.11/site-packages/sklearn/utils/validation.py:1184: DataConversionWarning: A column-vector y was passed when a 1d array was expected. Please change the shape of y to (n_samples, ), for example using ravel().\n",
      "  y = column_or_1d(y, warn=True)\n",
      "[I 2024-03-09 19:11:29,566] Trial 8 finished with value: 0.4984057727806679 and parameters: {'C': 7.742229869381793, 'kernel': 'sigmoid', 'degree': 2, 'gamma': 4.0}. Best is trial 3 with value: 0.6245083579154376.\n",
      "/Users/rixon/anaconda3/lib/python3.11/site-packages/sklearn/utils/validation.py:1184: DataConversionWarning: A column-vector y was passed when a 1d array was expected. Please change the shape of y to (n_samples, ), for example using ravel().\n",
      "  y = column_or_1d(y, warn=True)\n",
      "/Users/rixon/anaconda3/lib/python3.11/site-packages/sklearn/svm/_base.py:297: ConvergenceWarning: Solver terminated early (max_iter=10000).  Consider pre-processing your data with StandardScaler or MinMaxScaler.\n",
      "  warnings.warn(\n",
      "[I 2024-03-09 19:11:44,049] Trial 9 finished with value: 0.36651982378854625 and parameters: {'C': 7.655719432048386, 'kernel': 'rbf', 'degree': 2, 'gamma': 'auto'}. Best is trial 3 with value: 0.6245083579154376.\n",
      "/Users/rixon/anaconda3/lib/python3.11/site-packages/sklearn/utils/validation.py:1184: DataConversionWarning: A column-vector y was passed when a 1d array was expected. Please change the shape of y to (n_samples, ), for example using ravel().\n",
      "  y = column_or_1d(y, warn=True)\n"
     ]
    },
    {
     "name": "stdout",
     "output_type": "stream",
     "text": [
      "F1 Score: 0.6245083579154376\n",
      "Best hyperparameters: {'C': 2.6641545065835452, 'kernel': 'poly', 'degree': 2, 'gamma': 'scale'}\n",
      "Execution time: 1.3648560682932536 minutes\n"
     ]
    }
   ],
   "source": [
    "# buy\n",
    "xgboost_optimizer = XGBOptimizer(x_train_buy, y_train_buy, x_test_buy, y_test_buy)\n",
    "xgboost_best_params_buy, best_model_xgboost_buy = xgboost_optimizer.xgb_optuna()\n",
    "\n",
    "reg_log_optimizer = REGLOGOptimizer(x_train_buy, y_train_buy, x_test_buy, y_test_buy)\n",
    "reg_log_best_params_buy, best_model_reg_log_buy = reg_log_optimizer.reglog_optuna()\n",
    "\n",
    "SVC_optimizer = SVMOptimizer(x_train_buy_scaled, y_train_buy, x_test_buy_scaled, y_test_buy)\n",
    "SVC_best_params_buy, best_model_SVC_buy = SVC_optimizer.svm_optuna()\n",
    "\n",
    "# sell\n",
    "xgboost_optimizer = XGBOptimizer(x_train_sell, y_train_sell, x_test_sell, y_test_sell)\n",
    "xgboost_best_params_sell, best_model_xgboost_sell = xgboost_optimizer.xgb_optuna()\n",
    "\n",
    "reg_log_optimizer = REGLOGOptimizer(x_train_sell, y_train_sell, x_test_sell, y_test_sell)\n",
    "reg_log_best_params_sell, best_model_reg_log_sell = reg_log_optimizer.reglog_optuna()\n",
    "\n",
    "SVC_optimizer = SVMOptimizer(x_train_sell_scaled, y_train_sell, x_test_sell_scaled, y_test_sell)\n",
    "SVC_best_params_sell, best_model_SVC_sell = SVC_optimizer.svm_optuna()"
   ],
   "metadata": {
    "collapsed": false,
    "ExecuteTime": {
     "end_time": "2024-03-10T01:11:53.008628Z",
     "start_time": "2024-03-10T01:04:50.123535Z"
    }
   },
   "id": "be332582de104f50"
  },
  {
   "cell_type": "code",
   "execution_count": 8,
   "outputs": [
    {
     "name": "stderr",
     "output_type": "stream",
     "text": [
      "/Users/rixon/anaconda3/lib/python3.11/site-packages/sklearn/base.py:457: UserWarning: X has feature names, but SVC was fitted without feature names\n",
      "  warnings.warn(\n",
      "/Users/rixon/anaconda3/lib/python3.11/site-packages/sklearn/base.py:457: UserWarning: X has feature names, but SVC was fitted without feature names\n",
      "  warnings.warn(\n"
     ]
    },
    {
     "data": {
      "text/plain": "        Timestamp       Close  xg_boost_buy  reg_log_buy  SVC_buy  \\\n27     1609778700  129.413299          True         True     True   \n28     1609779000  129.148498          True         True     True   \n29     1609779300  128.820007          True         True     True   \n30     1609779600  128.580001          True         True     True   \n31     1609779900  128.351699          True         True     True   \n...           ...         ...           ...          ...      ...   \n39574  1672432800  129.054992          True         True     True   \n39575  1672433100  129.380004          True         True     True   \n39576  1672433400  129.764404          True         True     True   \n39577  1672433700  129.949996          True         True     True   \n39578  1672434000  129.929992          True         True     True   \n\n       xg_boost_sell  reg_log_sell  SVC_sell  \n27             False         False      True  \n28             False         False      True  \n29             False         False      True  \n30             False         False      True  \n31             False         False      True  \n...              ...           ...       ...  \n39574          False         False      True  \n39575          False         False      True  \n39576          False         False      True  \n39577          False         False      True  \n39578          False         False      True  \n\n[39542 rows x 8 columns]",
      "text/html": "<div>\n<style scoped>\n    .dataframe tbody tr th:only-of-type {\n        vertical-align: middle;\n    }\n\n    .dataframe tbody tr th {\n        vertical-align: top;\n    }\n\n    .dataframe thead th {\n        text-align: right;\n    }\n</style>\n<table border=\"1\" class=\"dataframe\">\n  <thead>\n    <tr style=\"text-align: right;\">\n      <th></th>\n      <th>Timestamp</th>\n      <th>Close</th>\n      <th>xg_boost_buy</th>\n      <th>reg_log_buy</th>\n      <th>SVC_buy</th>\n      <th>xg_boost_sell</th>\n      <th>reg_log_sell</th>\n      <th>SVC_sell</th>\n    </tr>\n  </thead>\n  <tbody>\n    <tr>\n      <th>27</th>\n      <td>1609778700</td>\n      <td>129.413299</td>\n      <td>True</td>\n      <td>True</td>\n      <td>True</td>\n      <td>False</td>\n      <td>False</td>\n      <td>True</td>\n    </tr>\n    <tr>\n      <th>28</th>\n      <td>1609779000</td>\n      <td>129.148498</td>\n      <td>True</td>\n      <td>True</td>\n      <td>True</td>\n      <td>False</td>\n      <td>False</td>\n      <td>True</td>\n    </tr>\n    <tr>\n      <th>29</th>\n      <td>1609779300</td>\n      <td>128.820007</td>\n      <td>True</td>\n      <td>True</td>\n      <td>True</td>\n      <td>False</td>\n      <td>False</td>\n      <td>True</td>\n    </tr>\n    <tr>\n      <th>30</th>\n      <td>1609779600</td>\n      <td>128.580001</td>\n      <td>True</td>\n      <td>True</td>\n      <td>True</td>\n      <td>False</td>\n      <td>False</td>\n      <td>True</td>\n    </tr>\n    <tr>\n      <th>31</th>\n      <td>1609779900</td>\n      <td>128.351699</td>\n      <td>True</td>\n      <td>True</td>\n      <td>True</td>\n      <td>False</td>\n      <td>False</td>\n      <td>True</td>\n    </tr>\n    <tr>\n      <th>...</th>\n      <td>...</td>\n      <td>...</td>\n      <td>...</td>\n      <td>...</td>\n      <td>...</td>\n      <td>...</td>\n      <td>...</td>\n      <td>...</td>\n    </tr>\n    <tr>\n      <th>39574</th>\n      <td>1672432800</td>\n      <td>129.054992</td>\n      <td>True</td>\n      <td>True</td>\n      <td>True</td>\n      <td>False</td>\n      <td>False</td>\n      <td>True</td>\n    </tr>\n    <tr>\n      <th>39575</th>\n      <td>1672433100</td>\n      <td>129.380004</td>\n      <td>True</td>\n      <td>True</td>\n      <td>True</td>\n      <td>False</td>\n      <td>False</td>\n      <td>True</td>\n    </tr>\n    <tr>\n      <th>39576</th>\n      <td>1672433400</td>\n      <td>129.764404</td>\n      <td>True</td>\n      <td>True</td>\n      <td>True</td>\n      <td>False</td>\n      <td>False</td>\n      <td>True</td>\n    </tr>\n    <tr>\n      <th>39577</th>\n      <td>1672433700</td>\n      <td>129.949996</td>\n      <td>True</td>\n      <td>True</td>\n      <td>True</td>\n      <td>False</td>\n      <td>False</td>\n      <td>True</td>\n    </tr>\n    <tr>\n      <th>39578</th>\n      <td>1672434000</td>\n      <td>129.929992</td>\n      <td>True</td>\n      <td>True</td>\n      <td>True</td>\n      <td>False</td>\n      <td>False</td>\n      <td>True</td>\n    </tr>\n  </tbody>\n</table>\n<p>39542 rows × 8 columns</p>\n</div>"
     },
     "execution_count": 8,
     "metadata": {},
     "output_type": "execute_result"
    }
   ],
   "source": [
    "# Indicadores Buy\n",
    "close_data['xg_boost_buy'] = best_model_xgboost_buy.predict(x)\n",
    "close_data['reg_log_buy'] = best_model_reg_log_buy.predict(x)\n",
    "close_data['SVC_buy'] = best_model_SVC_buy.predict(x)\n",
    "# Indicadores Sell\n",
    "close_data = close_data.drop(columns=['Y_BUY','RSI','X_t-1','X_t-2','X_t-3'])\n",
    "close_data['xg_boost_sell'] = best_model_xgboost_sell.predict(x)\n",
    "close_data['reg_log_sell'] = best_model_reg_log_sell.predict(x)\n",
    "close_data['SVC_sell'] = best_model_SVC_sell.predict(x)\n",
    "# Convertimos a boleanos\n",
    "close_data['xg_boost_buy'] = np.where(close_data['xg_boost_buy']==1, True, False)\n",
    "close_data['xg_boost_sell'] = np.where(close_data['xg_boost_sell']==1, True, False)\n",
    "close_data"
   ],
   "metadata": {
    "collapsed": false,
    "ExecuteTime": {
     "end_time": "2024-03-10T01:12:13.498587Z",
     "start_time": "2024-03-10T01:11:53.006894Z"
    }
   },
   "id": "3a7921ea75363be"
  },
  {
   "cell_type": "markdown",
   "source": [
    "**Mostramos nuestras combinaciones posibles de compra y venta**"
   ],
   "metadata": {
    "collapsed": false
   },
   "id": "2c7861e0c4b1d3be"
  },
  {
   "cell_type": "code",
   "execution_count": 9,
   "outputs": [
    {
     "data": {
      "text/plain": "([('xg_boost_buy',),\n  ('reg_log_buy',),\n  ('SVC_buy',),\n  ('xg_boost_buy', 'reg_log_buy'),\n  ('xg_boost_buy', 'SVC_buy'),\n  ('reg_log_buy', 'SVC_buy'),\n  ('xg_boost_buy', 'reg_log_buy', 'SVC_buy')],\n [('xg_boost_sell',),\n  ('reg_log_sell',),\n  ('SVC_sell',),\n  ('xg_boost_sell', 'reg_log_sell'),\n  ('xg_boost_sell', 'SVC_sell'),\n  ('reg_log_sell', 'SVC_sell'),\n  ('xg_boost_sell', 'reg_log_sell', 'SVC_sell')])"
     },
     "execution_count": 9,
     "metadata": {},
     "output_type": "execute_result"
    }
   ],
   "source": [
    "indicadores_compra = ['xg_boost_buy', 'reg_log_buy' , 'SVC_buy']\n",
    "indicadores_venta = ['xg_boost_sell', 'reg_log_sell' , 'SVC_sell']\n",
    "\n",
    "combinaciones_indicadores_compra = []\n",
    "combinaciones_indicadores_venta = []\n",
    "\n",
    "for i in range(1, len(indicadores_compra) + 1):\n",
    "    combinaciones_indicadores_compra.extend(combinations(indicadores_compra, i))\n",
    "\n",
    "for i in range(1, len(indicadores_venta) + 1):\n",
    "    combinaciones_indicadores_venta.extend(combinations(indicadores_venta, i))\n",
    "    \n",
    "combinaciones_indicadores_compra, combinaciones_indicadores_venta"
   ],
   "metadata": {
    "collapsed": false,
    "ExecuteTime": {
     "end_time": "2024-03-10T01:12:13.505030Z",
     "start_time": "2024-03-10T01:12:13.499346Z"
    }
   },
   "id": "30d03a984b3114f5"
  },
  {
   "cell_type": "code",
   "execution_count": 10,
   "outputs": [],
   "source": [
    "cash = 1_000_000\n",
    "active_operations = []\n",
    "com = 0.00125  # comision en GBM\n",
    "strategy_value = [1_000_000]\n",
    "# n_shares = 100\n",
    "# stop_loss_long = 0.3\n",
    "# take_profit_long = 0.3\n",
    "# stop_loss_short = 0.3\n",
    "# take_profit_short = 0.3"
   ],
   "metadata": {
    "collapsed": false,
    "ExecuteTime": {
     "end_time": "2024-03-10T01:12:13.506079Z",
     "start_time": "2024-03-10T01:12:13.503218Z"
    }
   },
   "id": "f448dd41b5ad519"
  },
  {
   "cell_type": "code",
   "execution_count": 11,
   "outputs": [],
   "source": [
    "class Operation:\n",
    "    def __init__(self, operation_type, bought_at, timestamp, n_shares,\n",
    "                 stop_loss,take_profit):\n",
    "        self.operation_type = operation_type\n",
    "        self.bought_at = bought_at\n",
    "        self.timestamp = timestamp\n",
    "        self.n_shares = n_shares\n",
    "        self.sold_at = None\n",
    "        self.stop_loss = stop_loss\n",
    "        self.take_profit = take_profit"
   ],
   "metadata": {
    "collapsed": false,
    "ExecuteTime": {
     "end_time": "2024-03-10T01:12:13.512165Z",
     "start_time": "2024-03-10T01:12:13.506380Z"
    }
   },
   "id": "64600276c43041f1"
  },
  {
   "cell_type": "code",
   "execution_count": 15,
   "outputs": [],
   "source": [
    "class STRATEGY_XGBOOST:\n",
    "    def __init__(self, df, cash, active_operations, com, n_shares, stop_loss_long, take_profit_long, stop_loss_short, take_profit_short):\n",
    "        self.df = df\n",
    "        self.cash = cash\n",
    "        self.active_operations = active_operations\n",
    "        self.com = com\n",
    "        self.n_shares = n_shares\n",
    "        self.stop_loss_long = stop_loss_long\n",
    "        self.take_profit_long = take_profit_long\n",
    "        self.stop_loss_short = stop_loss_short\n",
    "        self.take_profit_short = take_profit_short\n",
    "        self.strategy_value = []\n",
    "\n",
    "    def run_strategy(self):\n",
    "        for i, row in self.df.iterrows():\n",
    "            # Close Operations\n",
    "            temp_operations = []\n",
    "            for op in self.active_operations:\n",
    "                if op.operation_type == 'Long':\n",
    "                    if op.stop_loss > row.Close:  # Close losing operations\n",
    "                        self.cash += row.Close * op.n_shares * (1 - self.com)\n",
    "                    elif op.take_profit < row.Close:  # Close profits\n",
    "                        self.cash += row.Close * op.n_shares * (1 - self.com)\n",
    "                    else:\n",
    "                        temp_operations.append(op)\n",
    "                elif op.operation_type == 'Short':\n",
    "                    if op.stop_loss < row.Close:  # Close losing operations\n",
    "                        self.cash -= row.Close * op.n_shares * (1 + self.com)\n",
    "                    elif op.take_profit > row.Close:  # Close profits\n",
    "                        self.cash -= row.Close * op.n_shares * (1 + self.com)\n",
    "                    else:\n",
    "                        temp_operations.append(op)\n",
    "            self.active_operations = temp_operations\n",
    "\n",
    "            # Execute New Operations\n",
    "            if self.cash >= row['Close'] * self.n_shares * (1 + self.com):\n",
    "                if row['xg_boost_buy']:\n",
    "                    self.active_operations.append(Operation(operation_type='Long',\n",
    "                                                            bought_at=row['Close'],\n",
    "                                                            timestamp=row.Timestamp,\n",
    "                                                            n_shares=self.n_shares,\n",
    "                                                            stop_loss=(row['Close'] * self.stop_loss_long),\n",
    "                                                            take_profit=row['Close'] * (1 + self.take_profit_long)))\n",
    "                    self.cash -= row['Close'] * self.n_shares * (1 + self.com)\n",
    "\n",
    "                if row['xg_boost_sell']:\n",
    "                    self.active_operations.append(Operation(operation_type='Short',\n",
    "                                                            bought_at=row['Close'],\n",
    "                                                            timestamp=row.Timestamp,\n",
    "                                                            n_shares=self.n_shares,\n",
    "                                                            stop_loss=row['Close'] * (1 + self.stop_loss_short),\n",
    "                                                            take_profit=row['Close'] *  self.take_profit_short))\n",
    "                    \n",
    "                    self.cash += row['Close'] * self.n_shares * (1 - self.com)  \n",
    "\n",
    "            # Calculate Strategy Value\n",
    "            open_positions_value = sum(op.n_shares * row['Close'] for op in self.active_operations)\n",
    "            self.strategy_value.append(self.cash + open_positions_value)\n",
    "\n",
    "        return self.strategy_value[-1]"
   ],
   "metadata": {
    "collapsed": false,
    "ExecuteTime": {
     "end_time": "2024-03-10T01:16:03.316312Z",
     "start_time": "2024-03-10T01:16:03.306064Z"
    }
   },
   "id": "6131b7253761025f"
  },
  {
   "cell_type": "code",
   "execution_count": 16,
   "outputs": [],
   "source": [
    "def optimize(trial):\n",
    "    # Definición de los parámetros a optimizar\n",
    "    stop_loss_long = trial.suggest_float('stop_loss_long', 0.01, 0.3)\n",
    "    take_profit_long = trial.suggest_float('take_profit_long', 0.01, 0.3)\n",
    "    stop_loss_short = trial.suggest_float('stop_loss_short', 0.01, 0.3)\n",
    "    take_profit_short = trial.suggest_float('take_profit_short', 0.01, 0.3)\n",
    "    n_shares = trial.suggest_int('n_shares', 10, 100)\n",
    "    \n",
    "    # Inicialización de la estrategia con los parámetros actuales\n",
    "    xg_boost_buy = STRATEGY_XGBOOST(\n",
    "        df=close_data,  # df\n",
    "        cash=cash,  # saldo inicial\n",
    "        active_operations=[],\n",
    "        com=com,  # comisión GBM\n",
    "        n_shares=n_shares,\n",
    "        stop_loss_long=stop_loss_long,\n",
    "        take_profit_long=take_profit_long,\n",
    "        stop_loss_short=stop_loss_short,\n",
    "        take_profit_short=take_profit_short\n",
    "    )\n",
    "    \n",
    "    # Ejecución de la estrategia\n",
    "    xgboost_strategy_value = xg_boost_buy.run_strategy()\n",
    "    \n",
    "    return xgboost_strategy_value\n"
   ],
   "metadata": {
    "collapsed": false,
    "ExecuteTime": {
     "end_time": "2024-03-10T01:16:15.323935Z",
     "start_time": "2024-03-10T01:16:15.300068Z"
    }
   },
   "id": "742f08609b40be9f"
  },
  {
   "cell_type": "code",
   "execution_count": 19,
   "outputs": [
    {
     "name": "stderr",
     "output_type": "stream",
     "text": [
      "[I 2024-03-09 19:26:27,753] A new study created in memory with name: no-name-90fc493e-5f80-4e58-b0aa-df9658c6e1f9\n",
      "[I 2024-03-09 19:26:30,750] Trial 2 finished with value: 1201153.2714961704 and parameters: {'stop_loss_long': 0.09997397461582237, 'take_profit_long': 0.2558323895493765, 'stop_loss_short': 0.07338669500530222, 'take_profit_short': 0.12779938521382808, 'n_shares': 52}. Best is trial 6 with value: 1264703.4545351288.\n",
      "[I 2024-03-09 19:29:05,144] Trial 7 finished with value: 1143686.515346744 and parameters: {'stop_loss_long': 0.023630407659098074, 'take_profit_long': 0.17158283054716095, 'stop_loss_short': 0.11222384975632839, 'take_profit_short': 0.10944288446123447, 'n_shares': 38}. Best is trial 6 with value: 1264703.4545351288.\n",
      "[I 2024-03-09 19:30:41,661] Trial 0 finished with value: 2098377.12185389 and parameters: {'stop_loss_long': 0.29720085792434214, 'take_profit_long': 0.16318950337080632, 'stop_loss_short': 0.2061144033175483, 'take_profit_short': 0.1523509709047156, 'n_shares': 53}. Best is trial 0 with value: 2098377.12185389.\n",
      "[I 2024-03-09 19:33:33,831] Trial 4 finished with value: 1365667.1786489165 and parameters: {'stop_loss_long': 0.0907712816089004, 'take_profit_long': 0.20111492126934238, 'stop_loss_short': 0.279595456585561, 'take_profit_short': 0.26910397327548286, 'n_shares': 60}. Best is trial 4 with value: 1365667.1786489165.\n",
      "[I 2024-03-09 19:33:53,488] Trial 0 finished with value: 1282558.6471406468 and parameters: {'stop_loss_long': 0.23790909788975587, 'take_profit_long': 0.22493695257708582, 'stop_loss_short': 0.1417419677832312, 'take_profit_short': 0.039288059603945685, 'n_shares': 64}. Best is trial 0 with value: 1282558.6471406468.\n",
      "[I 2024-03-09 19:34:32,885] Trial 3 finished with value: 1093116.1807867184 and parameters: {'stop_loss_long': 0.17275875792653783, 'take_profit_long': 0.2553593933094566, 'stop_loss_short': 0.11361071540847185, 'take_profit_short': 0.033780510038151156, 'n_shares': 23}. Best is trial 0 with value: 2098377.12185389.\n",
      "[I 2024-03-09 19:36:54,278] Trial 1 finished with value: 1079684.2833408748 and parameters: {'stop_loss_long': 0.12753147741881823, 'take_profit_long': 0.23343803726525147, 'stop_loss_short': 0.15224419284495153, 'take_profit_short': 0.04308065204752817, 'n_shares': 87}. Best is trial 0 with value: 1282558.6471406468.\n",
      "[I 2024-03-09 19:37:31,049] Trial 4 finished with value: 1728262.1944126126 and parameters: {'stop_loss_long': 0.25208156994290715, 'take_profit_long': 0.15594576320630957, 'stop_loss_short': 0.26927888370624203, 'take_profit_short': 0.09713642400680265, 'n_shares': 29}. Best is trial 0 with value: 2098377.12185389.\n",
      "[I 2024-03-09 19:43:46,617] Trial 2 finished with value: 13505951.748434031 and parameters: {'stop_loss_long': 0.1338422390371446, 'take_profit_long': 0.06822680039361313, 'stop_loss_short': 0.2839257367648364, 'take_profit_short': 0.16735075166028765, 'n_shares': 93}. Best is trial 2 with value: 13505951.748434031.\n",
      "[I 2024-03-09 19:48:24,906] Trial 0 finished with value: 6811765.420383662 and parameters: {'stop_loss_long': 0.11682617012459351, 'take_profit_long': 0.05890768134508423, 'stop_loss_short': 0.21847532549844895, 'take_profit_short': 0.18860146278948328, 'n_shares': 62}. Best is trial 2 with value: 13505951.748434031.\n",
      "[I 2024-03-09 19:48:51,579] Trial 1 finished with value: 7476248.561203471 and parameters: {'stop_loss_long': 0.03064810657687413, 'take_profit_long': 0.07727720372244239, 'stop_loss_short': 0.23423688390907066, 'take_profit_short': 0.2704832022416928, 'n_shares': 58}. Best is trial 1 with value: 7476248.561203471.\n",
      "[I 2024-03-09 19:57:27,567] Trial 3 finished with value: 3216171.061983754 and parameters: {'stop_loss_long': 0.21235947490955473, 'take_profit_long': 0.04967672381249329, 'stop_loss_short': 0.2571885517297785, 'take_profit_short': 0.2503726949152898, 'n_shares': 16}. Best is trial 2 with value: 13505951.748434031.\n",
      "[I 2024-03-09 19:58:24,930] Trial 2 finished with value: 2023371.7495714014 and parameters: {'stop_loss_long': 0.23952989660445753, 'take_profit_long': 0.019367708767462702, 'stop_loss_short': 0.27585148523387315, 'take_profit_short': 0.08603623382470814, 'n_shares': 12}. Best is trial 2 with value: 2023371.7495714014.\n",
      "[I 2024-03-09 19:58:54,594] Trial 3 finished with value: 1286192.9994636024 and parameters: {'stop_loss_long': 0.24340474710298254, 'take_profit_long': 0.2976056313169355, 'stop_loss_short': 0.05850260750869289, 'take_profit_short': 0.1938819040496053, 'n_shares': 80}. Best is trial 2 with value: 2023371.7495714014.\n",
      "[I 2024-03-09 19:59:21,639] Trial 4 finished with value: 1090752.1941475892 and parameters: {'stop_loss_long': 0.08753097601382982, 'take_profit_long': 0.14837299743005877, 'stop_loss_short': 0.013552001477238246, 'take_profit_short': 0.2278351352373044, 'n_shares': 59}. Best is trial 2 with value: 2023371.7495714014.\n"
     ]
    },
    {
     "name": "stdout",
     "output_type": "stream",
     "text": [
      "strategy_value: 2023371.7495714014\n",
      "Best value: 2023371.7495714014\n",
      "Best parameters: {'stop_loss_long': 0.23952989660445753, 'take_profit_long': 0.019367708767462702, 'stop_loss_short': 0.27585148523387315, 'take_profit_short': 0.08603623382470814, 'n_shares': 12}\n",
      "Overall best value: 2023371.7495714014\n",
      "Overall best parameters: {'stop_loss_long': 0.23952989660445753, 'take_profit_long': 0.019367708767462702, 'stop_loss_short': 0.27585148523387315, 'take_profit_short': 0.08603623382470814, 'n_shares': 12}\n"
     ]
    }
   ],
   "source": [
    "import optuna\n",
    "from itertools import combinations\n",
    "\n",
    "# Suponiendo que ya tienes definidas tus combinaciones y la clase STRATEGY_XGBOOST\n",
    "\n",
    "best_value_overall = float('-inf')\n",
    "best_params_overall = {}\n",
    "\n",
    "# # No necesitas iterar sobre strat ya que no se usa en la versión corregida de optimize\n",
    "# pruner = optuna.pruners.MedianPruner()\n",
    "# study = optuna.create_study(direction='maximize', sampler=optuna.samplers.TPESampler(), pruner=pruner)\n",
    "# study.optimize(lambda trial: optimize(trial), n_trials=5, n_jobs=-1)\n",
    "\n",
    "study = optuna.create_study(direction='maximize')\n",
    "study.optimize(lambda trial: optimize(trial), n_trials=5)\n",
    "trial = study.best_trial\n",
    "\n",
    "# Obtener los mejores parámetros y su valor correspondiente\n",
    "best_params = study.best_params\n",
    "best_value = study.best_value\n",
    "\n",
    "if best_value > best_value_overall:\n",
    "    best_value_overall = best_value\n",
    "    best_params_overall = best_params\n",
    "\n",
    "print(\"Best strategy_value:\", best_value_overall)\n",
    "print(\"Best parameters:\", best_params_overall)\n"
   ],
   "metadata": {
    "collapsed": false,
    "ExecuteTime": {
     "end_time": "2024-03-10T01:59:21.663817Z",
     "start_time": "2024-03-10T01:26:28.189461Z"
    }
   },
   "id": "8d52fe269a293f1e"
  },
  {
   "cell_type": "code",
   "execution_count": null,
   "outputs": [],
   "source": [],
   "metadata": {
    "collapsed": false
   },
   "id": "35a1a36aec490233"
  },
  {
   "cell_type": "code",
   "execution_count": null,
   "outputs": [],
   "source": [],
   "metadata": {
    "collapsed": false
   },
   "id": "893cd38ed398874d"
  },
  {
   "cell_type": "code",
   "execution_count": null,
   "outputs": [],
   "source": [],
   "metadata": {
    "collapsed": false
   },
   "id": "91db5bbf8d21af23"
  }
 ],
 "metadata": {
  "kernelspec": {
   "display_name": "Python 3",
   "language": "python",
   "name": "python3"
  },
  "language_info": {
   "codemirror_mode": {
    "name": "ipython",
    "version": 2
   },
   "file_extension": ".py",
   "mimetype": "text/x-python",
   "name": "python",
   "nbconvert_exporter": "python",
   "pygments_lexer": "ipython2",
   "version": "2.7.6"
  }
 },
 "nbformat": 4,
 "nbformat_minor": 5
}
