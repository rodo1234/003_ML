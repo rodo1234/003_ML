{
 "cells": [
  {
   "cell_type": "code",
   "execution_count": 1,
   "id": "initial_id",
   "metadata": {
    "collapsed": true,
    "ExecuteTime": {
     "end_time": "2024-03-07T07:48:44.277181Z",
     "start_time": "2024-03-07T07:48:43.084272Z"
    }
   },
   "outputs": [],
   "source": [
    "from machine_learning.xgb_def import XGBOptimizer\n",
    "from machine_learning.reglog_def import REGLOGOptimizer\n",
    "import pandas as pd\n",
    "from opt_funct.data_fuct import functions\n",
    "from sklearn.model_selection import train_test_split\n",
    "import time\n",
    "import optuna\n",
    "from sklearn.metrics import f1_score, classification_report\n",
    "from machine_learning.Model_opt import Combined_xgb_logreg"
   ]
  },
  {
   "cell_type": "markdown",
   "source": [],
   "metadata": {
    "collapsed": false
   },
   "id": "1dc2c991de0a4e22"
  },
  {
   "cell_type": "code",
   "execution_count": 2,
   "outputs": [
    {
     "data": {
      "text/plain": "      Timestamp  Gmtoffset             Datetime        Open        High  \\\n0    1602509400          0  2020-10-12 13:30:00  120.059997  121.330101   \n1    1602513000          0  2020-10-12 14:30:00  120.919998  122.639999   \n2    1602516600          0  2020-10-12 15:30:00  122.525001  123.629997   \n3    1602520200          0  2020-10-12 16:30:00  123.260002  124.000000   \n4    1602523800          0  2020-10-12 17:30:00  124.089996  125.180000   \n..          ...        ...                  ...         ...         ...   \n390  1609432200          0  2020-12-31 16:30:00  132.529998  132.800003   \n391  1609435800          0  2020-12-31 17:30:00  132.619995  132.717605   \n392  1609439400          0  2020-12-31 18:30:00  132.565002  132.889999   \n393  1609443000          0  2020-12-31 19:30:00  132.770004  133.179992   \n394  1609446600          0  2020-12-31 20:30:00  132.794998  133.330001   \n\n            Low       Close      Volume       X_t-1       X_t-2       X_t-3  \\\n0    119.284500  120.919998  48082766.0         NaN         NaN         NaN   \n1    120.769996  122.529998  27028067.0  120.919998         NaN         NaN   \n2    122.290000  123.261001  35722193.0  122.529998  120.919998         NaN   \n3    123.040000  123.930000  22891159.0  123.261001  122.529998  120.919998   \n4    123.910003  125.050003  31443470.0  123.930000  123.261001  122.529998   \n..          ...         ...         ...         ...         ...         ...   \n390  131.720001  132.619995  13538948.0  132.529998  132.884994  133.679992   \n391  132.310104  132.560806   7474176.0  132.619995  132.529998  132.884994   \n392  132.009994  132.764999   9408857.0  132.560806  132.619995  132.529998   \n393  132.565994  132.800003  10147999.0  132.764999  132.560806  132.619995   \n394  132.449996  132.580001  11777361.0  132.800003  132.764999  132.560806   \n\n           Pt_5        RSI  Y_BUY  Y_SELL  \n0    124.314102        NaN      1       0  \n1    124.419998        NaN      0       0  \n2    123.757202        NaN      0       0  \n3    124.430000        NaN      0       0  \n4    123.080001        NaN      0       0  \n..          ...        ...    ...     ...  \n390         NaN  50.983206      0       0  \n391         NaN  50.783652      0       0  \n392         NaN  51.463321      0       0  \n393         NaN  51.582189      0       0  \n394         NaN  50.771752      0       0  \n\n[395 rows x 15 columns]",
      "text/html": "<div>\n<style scoped>\n    .dataframe tbody tr th:only-of-type {\n        vertical-align: middle;\n    }\n\n    .dataframe tbody tr th {\n        vertical-align: top;\n    }\n\n    .dataframe thead th {\n        text-align: right;\n    }\n</style>\n<table border=\"1\" class=\"dataframe\">\n  <thead>\n    <tr style=\"text-align: right;\">\n      <th></th>\n      <th>Timestamp</th>\n      <th>Gmtoffset</th>\n      <th>Datetime</th>\n      <th>Open</th>\n      <th>High</th>\n      <th>Low</th>\n      <th>Close</th>\n      <th>Volume</th>\n      <th>X_t-1</th>\n      <th>X_t-2</th>\n      <th>X_t-3</th>\n      <th>Pt_5</th>\n      <th>RSI</th>\n      <th>Y_BUY</th>\n      <th>Y_SELL</th>\n    </tr>\n  </thead>\n  <tbody>\n    <tr>\n      <th>0</th>\n      <td>1602509400</td>\n      <td>0</td>\n      <td>2020-10-12 13:30:00</td>\n      <td>120.059997</td>\n      <td>121.330101</td>\n      <td>119.284500</td>\n      <td>120.919998</td>\n      <td>48082766.0</td>\n      <td>NaN</td>\n      <td>NaN</td>\n      <td>NaN</td>\n      <td>124.314102</td>\n      <td>NaN</td>\n      <td>1</td>\n      <td>0</td>\n    </tr>\n    <tr>\n      <th>1</th>\n      <td>1602513000</td>\n      <td>0</td>\n      <td>2020-10-12 14:30:00</td>\n      <td>120.919998</td>\n      <td>122.639999</td>\n      <td>120.769996</td>\n      <td>122.529998</td>\n      <td>27028067.0</td>\n      <td>120.919998</td>\n      <td>NaN</td>\n      <td>NaN</td>\n      <td>124.419998</td>\n      <td>NaN</td>\n      <td>0</td>\n      <td>0</td>\n    </tr>\n    <tr>\n      <th>2</th>\n      <td>1602516600</td>\n      <td>0</td>\n      <td>2020-10-12 15:30:00</td>\n      <td>122.525001</td>\n      <td>123.629997</td>\n      <td>122.290000</td>\n      <td>123.261001</td>\n      <td>35722193.0</td>\n      <td>122.529998</td>\n      <td>120.919998</td>\n      <td>NaN</td>\n      <td>123.757202</td>\n      <td>NaN</td>\n      <td>0</td>\n      <td>0</td>\n    </tr>\n    <tr>\n      <th>3</th>\n      <td>1602520200</td>\n      <td>0</td>\n      <td>2020-10-12 16:30:00</td>\n      <td>123.260002</td>\n      <td>124.000000</td>\n      <td>123.040000</td>\n      <td>123.930000</td>\n      <td>22891159.0</td>\n      <td>123.261001</td>\n      <td>122.529998</td>\n      <td>120.919998</td>\n      <td>124.430000</td>\n      <td>NaN</td>\n      <td>0</td>\n      <td>0</td>\n    </tr>\n    <tr>\n      <th>4</th>\n      <td>1602523800</td>\n      <td>0</td>\n      <td>2020-10-12 17:30:00</td>\n      <td>124.089996</td>\n      <td>125.180000</td>\n      <td>123.910003</td>\n      <td>125.050003</td>\n      <td>31443470.0</td>\n      <td>123.930000</td>\n      <td>123.261001</td>\n      <td>122.529998</td>\n      <td>123.080001</td>\n      <td>NaN</td>\n      <td>0</td>\n      <td>0</td>\n    </tr>\n    <tr>\n      <th>...</th>\n      <td>...</td>\n      <td>...</td>\n      <td>...</td>\n      <td>...</td>\n      <td>...</td>\n      <td>...</td>\n      <td>...</td>\n      <td>...</td>\n      <td>...</td>\n      <td>...</td>\n      <td>...</td>\n      <td>...</td>\n      <td>...</td>\n      <td>...</td>\n      <td>...</td>\n    </tr>\n    <tr>\n      <th>390</th>\n      <td>1609432200</td>\n      <td>0</td>\n      <td>2020-12-31 16:30:00</td>\n      <td>132.529998</td>\n      <td>132.800003</td>\n      <td>131.720001</td>\n      <td>132.619995</td>\n      <td>13538948.0</td>\n      <td>132.529998</td>\n      <td>132.884994</td>\n      <td>133.679992</td>\n      <td>NaN</td>\n      <td>50.983206</td>\n      <td>0</td>\n      <td>0</td>\n    </tr>\n    <tr>\n      <th>391</th>\n      <td>1609435800</td>\n      <td>0</td>\n      <td>2020-12-31 17:30:00</td>\n      <td>132.619995</td>\n      <td>132.717605</td>\n      <td>132.310104</td>\n      <td>132.560806</td>\n      <td>7474176.0</td>\n      <td>132.619995</td>\n      <td>132.529998</td>\n      <td>132.884994</td>\n      <td>NaN</td>\n      <td>50.783652</td>\n      <td>0</td>\n      <td>0</td>\n    </tr>\n    <tr>\n      <th>392</th>\n      <td>1609439400</td>\n      <td>0</td>\n      <td>2020-12-31 18:30:00</td>\n      <td>132.565002</td>\n      <td>132.889999</td>\n      <td>132.009994</td>\n      <td>132.764999</td>\n      <td>9408857.0</td>\n      <td>132.560806</td>\n      <td>132.619995</td>\n      <td>132.529998</td>\n      <td>NaN</td>\n      <td>51.463321</td>\n      <td>0</td>\n      <td>0</td>\n    </tr>\n    <tr>\n      <th>393</th>\n      <td>1609443000</td>\n      <td>0</td>\n      <td>2020-12-31 19:30:00</td>\n      <td>132.770004</td>\n      <td>133.179992</td>\n      <td>132.565994</td>\n      <td>132.800003</td>\n      <td>10147999.0</td>\n      <td>132.764999</td>\n      <td>132.560806</td>\n      <td>132.619995</td>\n      <td>NaN</td>\n      <td>51.582189</td>\n      <td>0</td>\n      <td>0</td>\n    </tr>\n    <tr>\n      <th>394</th>\n      <td>1609446600</td>\n      <td>0</td>\n      <td>2020-12-31 20:30:00</td>\n      <td>132.794998</td>\n      <td>133.330001</td>\n      <td>132.449996</td>\n      <td>132.580001</td>\n      <td>11777361.0</td>\n      <td>132.800003</td>\n      <td>132.764999</td>\n      <td>132.560806</td>\n      <td>NaN</td>\n      <td>50.771752</td>\n      <td>0</td>\n      <td>0</td>\n    </tr>\n  </tbody>\n</table>\n<p>395 rows × 15 columns</p>\n</div>"
     },
     "execution_count": 2,
     "metadata": {},
     "output_type": "execute_result"
    }
   ],
   "source": [
    "df = functions.clean_ds(pd.read_csv('./data/aapl_1h_train.csv'))\n",
    "df"
   ],
   "metadata": {
    "collapsed": false,
    "ExecuteTime": {
     "end_time": "2024-03-07T07:48:45.047420Z",
     "start_time": "2024-03-07T07:48:45.003168Z"
    }
   },
   "id": "570e764aa7a0ecce"
  },
  {
   "cell_type": "markdown",
   "source": [
    "**Entrenamos nuestros modelos para compra**"
   ],
   "metadata": {
    "collapsed": false
   },
   "id": "d323bfcca07ea974"
  },
  {
   "cell_type": "code",
   "execution_count": null,
   "outputs": [],
   "source": [
    "close_data = df[['Close', 'X_t-1', 'X_t-2', 'X_t-3', 'RSI', 'Y_BUY']].dropna()\n",
    "x = close_data.drop(columns=['Y_BUY'])\n",
    "y = close_data[['Y_BUY']]\n",
    "x_train, x_test, y_train, y_test = train_test_split(x, y, test_size=0.3, random_state=42)"
   ],
   "metadata": {
    "collapsed": false
   },
   "id": "5c75d6af000f82f8"
  },
  {
   "cell_type": "code",
   "execution_count": 3,
   "outputs": [],
   "source": [
    "\n",
    "XGBOptimizer(x_train, y_train, x_test, y_test).xgb_optuna()"
   ],
   "metadata": {
    "collapsed": false,
    "ExecuteTime": {
     "end_time": "2024-03-07T07:48:47.846256Z",
     "start_time": "2024-03-07T07:48:47.843265Z"
    }
   },
   "id": "be332582de104f50"
  },
  {
   "cell_type": "code",
   "execution_count": 8,
   "outputs": [
    {
     "name": "stdout",
     "output_type": "stream",
     "text": [
      "              precision    recall  f1-score   support\n",
      "\n",
      "           0       0.91      1.00      0.95       108\n",
      "           1       0.00      0.00      0.00        11\n",
      "\n",
      "    accuracy                           0.91       119\n",
      "   macro avg       0.45      0.50      0.48       119\n",
      "weighted avg       0.82      0.91      0.86       119\n"
     ]
    },
    {
     "name": "stderr",
     "output_type": "stream",
     "text": [
      "/Users/rixon/anaconda3/lib/python3.11/site-packages/sklearn/metrics/_classification.py:1469: UndefinedMetricWarning: Precision and F-score are ill-defined and being set to 0.0 in labels with no predicted samples. Use `zero_division` parameter to control this behavior.\n",
      "  _warn_prf(average, modifier, msg_start, len(result))\n",
      "/Users/rixon/anaconda3/lib/python3.11/site-packages/sklearn/metrics/_classification.py:1469: UndefinedMetricWarning: Precision and F-score are ill-defined and being set to 0.0 in labels with no predicted samples. Use `zero_division` parameter to control this behavior.\n",
      "  _warn_prf(average, modifier, msg_start, len(result))\n",
      "/Users/rixon/anaconda3/lib/python3.11/site-packages/sklearn/metrics/_classification.py:1469: UndefinedMetricWarning: Precision and F-score are ill-defined and being set to 0.0 in labels with no predicted samples. Use `zero_division` parameter to control this behavior.\n",
      "  _warn_prf(average, modifier, msg_start, len(result))\n"
     ]
    }
   ],
   "source": [
    "import xgboost as xgb\n",
    "\n",
    "# Define the hyperparameters\n",
    "hyperparameters = {\n",
    "    'n_estimators': 994,\n",
    "    'max_depth': 4,\n",
    "    'max_leaves': 6,\n",
    "    'learning_rate': 0.1048790005261305,\n",
    "    'booster': 'dart',\n",
    "    'gamma': 0.40711115034257384,\n",
    "    'reg_alpha': 0.975092039533156,\n",
    "    'reg_lambda': 0.987249221643742\n",
    "}\n",
    "\n",
    "# Create the XGBoost model\n",
    "model = xgb.XGBClassifier(**hyperparameters)\n",
    "model.fit(x_train, y_train)\n",
    "y_pred = model.predict(x_test)\n",
    "f1 = f1_score(y_test, y_pred)\n",
    "report = classification_report(y_test, y_pred)\n",
    "print(report)"
   ],
   "metadata": {
    "collapsed": false,
    "ExecuteTime": {
     "end_time": "2024-03-07T03:23:04.092642Z",
     "start_time": "2024-03-07T03:22:45.031833Z"
    }
   },
   "id": "4b7351d8609b7a34"
  },
  {
   "cell_type": "code",
   "execution_count": 9,
   "outputs": [
    {
     "name": "stderr",
     "output_type": "stream",
     "text": [
      "[I 2024-03-06 21:46:50,926] A new study created in memory with name: no-name-92957511-ae85-4dc7-b148-e8647bd9bb4b\n",
      "/Users/rixon/anaconda3/lib/python3.11/site-packages/sklearn/utils/validation.py:1184: DataConversionWarning: A column-vector y was passed when a 1d array was expected. Please change the shape of y to (n_samples, ), for example using ravel().\n",
      "  y = column_or_1d(y, warn=True)\n",
      "[I 2024-03-06 21:46:51,018] Trial 0 finished with value: 0.0 and parameters: {'C': 0.9954640533367793, 'fit_intercept': False, 'l1_ratio': 0.6295501836449665}. Best is trial 0 with value: 0.0.\n",
      "/Users/rixon/anaconda3/lib/python3.11/site-packages/sklearn/utils/validation.py:1184: DataConversionWarning: A column-vector y was passed when a 1d array was expected. Please change the shape of y to (n_samples, ), for example using ravel().\n",
      "  y = column_or_1d(y, warn=True)\n",
      "[I 2024-03-06 21:46:51,094] Trial 1 finished with value: 0.0 and parameters: {'C': 4.1256642538634285, 'fit_intercept': True, 'l1_ratio': 0.7020513434603928}. Best is trial 0 with value: 0.0.\n",
      "/Users/rixon/anaconda3/lib/python3.11/site-packages/sklearn/utils/validation.py:1184: DataConversionWarning: A column-vector y was passed when a 1d array was expected. Please change the shape of y to (n_samples, ), for example using ravel().\n",
      "  y = column_or_1d(y, warn=True)\n",
      "[I 2024-03-06 21:46:51,125] Trial 2 finished with value: 0.0 and parameters: {'C': 0.17367071939859444, 'fit_intercept': True, 'l1_ratio': 0.6078113211360937}. Best is trial 0 with value: 0.0.\n",
      "/Users/rixon/anaconda3/lib/python3.11/site-packages/sklearn/utils/validation.py:1184: DataConversionWarning: A column-vector y was passed when a 1d array was expected. Please change the shape of y to (n_samples, ), for example using ravel().\n",
      "  y = column_or_1d(y, warn=True)\n",
      "[I 2024-03-06 21:46:51,204] Trial 3 finished with value: 0.0 and parameters: {'C': 5.658669265497754, 'fit_intercept': True, 'l1_ratio': 0.0007148886380519137}. Best is trial 0 with value: 0.0.\n",
      "/Users/rixon/anaconda3/lib/python3.11/site-packages/sklearn/utils/validation.py:1184: DataConversionWarning: A column-vector y was passed when a 1d array was expected. Please change the shape of y to (n_samples, ), for example using ravel().\n",
      "  y = column_or_1d(y, warn=True)\n",
      "[I 2024-03-06 21:46:51,279] Trial 4 finished with value: 0.0 and parameters: {'C': 3.4875385953189375, 'fit_intercept': True, 'l1_ratio': 0.7840931830771506}. Best is trial 0 with value: 0.0.\n",
      "/Users/rixon/anaconda3/lib/python3.11/site-packages/sklearn/utils/validation.py:1184: DataConversionWarning: A column-vector y was passed when a 1d array was expected. Please change the shape of y to (n_samples, ), for example using ravel().\n",
      "  y = column_or_1d(y, warn=True)\n",
      "[I 2024-03-06 21:46:51,358] Trial 5 finished with value: 0.0 and parameters: {'C': 3.486433390244069, 'fit_intercept': True, 'l1_ratio': 0.20506405430625196}. Best is trial 0 with value: 0.0.\n",
      "/Users/rixon/anaconda3/lib/python3.11/site-packages/sklearn/utils/validation.py:1184: DataConversionWarning: A column-vector y was passed when a 1d array was expected. Please change the shape of y to (n_samples, ), for example using ravel().\n",
      "  y = column_or_1d(y, warn=True)\n",
      "[I 2024-03-06 21:46:51,439] Trial 6 finished with value: 0.0 and parameters: {'C': 2.2526465817631376, 'fit_intercept': True, 'l1_ratio': 0.8674543085362023}. Best is trial 0 with value: 0.0.\n",
      "/Users/rixon/anaconda3/lib/python3.11/site-packages/sklearn/utils/validation.py:1184: DataConversionWarning: A column-vector y was passed when a 1d array was expected. Please change the shape of y to (n_samples, ), for example using ravel().\n",
      "  y = column_or_1d(y, warn=True)\n",
      "[I 2024-03-06 21:46:51,530] Trial 7 finished with value: 0.0 and parameters: {'C': 9.816456979168812, 'fit_intercept': True, 'l1_ratio': 0.6418358073717255}. Best is trial 0 with value: 0.0.\n",
      "/Users/rixon/anaconda3/lib/python3.11/site-packages/sklearn/utils/validation.py:1184: DataConversionWarning: A column-vector y was passed when a 1d array was expected. Please change the shape of y to (n_samples, ), for example using ravel().\n",
      "  y = column_or_1d(y, warn=True)\n",
      "[I 2024-03-06 21:46:51,608] Trial 8 finished with value: 0.0 and parameters: {'C': 7.625738820917581, 'fit_intercept': False, 'l1_ratio': 0.29021523993028997}. Best is trial 0 with value: 0.0.\n",
      "/Users/rixon/anaconda3/lib/python3.11/site-packages/sklearn/utils/validation.py:1184: DataConversionWarning: A column-vector y was passed when a 1d array was expected. Please change the shape of y to (n_samples, ), for example using ravel().\n",
      "  y = column_or_1d(y, warn=True)\n",
      "[I 2024-03-06 21:46:51,685] Trial 9 finished with value: 0.0 and parameters: {'C': 6.646474822523569, 'fit_intercept': False, 'l1_ratio': 0.03375969435062365}. Best is trial 0 with value: 0.0.\n",
      "/Users/rixon/anaconda3/lib/python3.11/site-packages/sklearn/utils/validation.py:1184: DataConversionWarning: A column-vector y was passed when a 1d array was expected. Please change the shape of y to (n_samples, ), for example using ravel().\n",
      "  y = column_or_1d(y, warn=True)\n",
      "[I 2024-03-06 21:46:51,700] Trial 10 finished with value: 0.0 and parameters: {'C': 0.24653739821804277, 'fit_intercept': False, 'l1_ratio': 0.9733569574177134}. Best is trial 0 with value: 0.0.\n",
      "/Users/rixon/anaconda3/lib/python3.11/site-packages/sklearn/utils/validation.py:1184: DataConversionWarning: A column-vector y was passed when a 1d array was expected. Please change the shape of y to (n_samples, ), for example using ravel().\n",
      "  y = column_or_1d(y, warn=True)\n",
      "[I 2024-03-06 21:46:51,777] Trial 11 finished with value: 0.0 and parameters: {'C': 2.0922411005168153, 'fit_intercept': False, 'l1_ratio': 0.472683972865405}. Best is trial 0 with value: 0.0.\n",
      "/Users/rixon/anaconda3/lib/python3.11/site-packages/sklearn/utils/validation.py:1184: DataConversionWarning: A column-vector y was passed when a 1d array was expected. Please change the shape of y to (n_samples, ), for example using ravel().\n",
      "  y = column_or_1d(y, warn=True)\n",
      "[I 2024-03-06 21:46:51,856] Trial 12 finished with value: 0.0 and parameters: {'C': 4.276828591529437, 'fit_intercept': False, 'l1_ratio': 0.479274217055389}. Best is trial 0 with value: 0.0.\n",
      "/Users/rixon/anaconda3/lib/python3.11/site-packages/sklearn/utils/validation.py:1184: DataConversionWarning: A column-vector y was passed when a 1d array was expected. Please change the shape of y to (n_samples, ), for example using ravel().\n",
      "  y = column_or_1d(y, warn=True)\n",
      "[I 2024-03-06 21:46:51,930] Trial 13 finished with value: 0.0 and parameters: {'C': 1.809062764704271, 'fit_intercept': False, 'l1_ratio': 0.7046210920622972}. Best is trial 0 with value: 0.0.\n",
      "/Users/rixon/anaconda3/lib/python3.11/site-packages/sklearn/utils/validation.py:1184: DataConversionWarning: A column-vector y was passed when a 1d array was expected. Please change the shape of y to (n_samples, ), for example using ravel().\n",
      "  y = column_or_1d(y, warn=True)\n",
      "[I 2024-03-06 21:46:52,010] Trial 14 finished with value: 0.0 and parameters: {'C': 5.284116095738125, 'fit_intercept': True, 'l1_ratio': 0.3959164432367191}. Best is trial 0 with value: 0.0.\n",
      "/Users/rixon/anaconda3/lib/python3.11/site-packages/sklearn/utils/validation.py:1184: DataConversionWarning: A column-vector y was passed when a 1d array was expected. Please change the shape of y to (n_samples, ), for example using ravel().\n",
      "  y = column_or_1d(y, warn=True)\n",
      "[I 2024-03-06 21:46:52,090] Trial 15 finished with value: 0.0 and parameters: {'C': 7.933495283227153, 'fit_intercept': False, 'l1_ratio': 0.8507535090389645}. Best is trial 0 with value: 0.0.\n",
      "/Users/rixon/anaconda3/lib/python3.11/site-packages/sklearn/utils/validation.py:1184: DataConversionWarning: A column-vector y was passed when a 1d array was expected. Please change the shape of y to (n_samples, ), for example using ravel().\n",
      "  y = column_or_1d(y, warn=True)\n",
      "[I 2024-03-06 21:46:52,160] Trial 16 finished with value: 0.0 and parameters: {'C': 1.1954228124326614, 'fit_intercept': False, 'l1_ratio': 0.5776222034020027}. Best is trial 0 with value: 0.0.\n",
      "/Users/rixon/anaconda3/lib/python3.11/site-packages/sklearn/utils/validation.py:1184: DataConversionWarning: A column-vector y was passed when a 1d array was expected. Please change the shape of y to (n_samples, ), for example using ravel().\n",
      "  y = column_or_1d(y, warn=True)\n",
      "[I 2024-03-06 21:46:52,238] Trial 17 finished with value: 0.0 and parameters: {'C': 3.381595322106355, 'fit_intercept': True, 'l1_ratio': 0.721807757497342}. Best is trial 0 with value: 0.0.\n",
      "/Users/rixon/anaconda3/lib/python3.11/site-packages/sklearn/utils/validation.py:1184: DataConversionWarning: A column-vector y was passed when a 1d array was expected. Please change the shape of y to (n_samples, ), for example using ravel().\n",
      "  y = column_or_1d(y, warn=True)\n",
      "[I 2024-03-06 21:46:52,318] Trial 18 finished with value: 0.0 and parameters: {'C': 4.567738218627998, 'fit_intercept': False, 'l1_ratio': 0.9612240607005749}. Best is trial 0 with value: 0.0.\n",
      "/Users/rixon/anaconda3/lib/python3.11/site-packages/sklearn/utils/validation.py:1184: DataConversionWarning: A column-vector y was passed when a 1d array was expected. Please change the shape of y to (n_samples, ), for example using ravel().\n",
      "  y = column_or_1d(y, warn=True)\n",
      "[I 2024-03-06 21:46:52,399] Trial 19 finished with value: 0.0 and parameters: {'C': 6.334897959110875, 'fit_intercept': True, 'l1_ratio': 0.3921783572350306}. Best is trial 0 with value: 0.0.\n",
      "/Users/rixon/anaconda3/lib/python3.11/site-packages/sklearn/utils/validation.py:1184: DataConversionWarning: A column-vector y was passed when a 1d array was expected. Please change the shape of y to (n_samples, ), for example using ravel().\n",
      "  y = column_or_1d(y, warn=True)\n",
      "[I 2024-03-06 21:46:52,469] Trial 20 finished with value: 0.0 and parameters: {'C': 1.0028713963421017, 'fit_intercept': True, 'l1_ratio': 0.5512897784187416}. Best is trial 0 with value: 0.0.\n",
      "/Users/rixon/anaconda3/lib/python3.11/site-packages/sklearn/utils/validation.py:1184: DataConversionWarning: A column-vector y was passed when a 1d array was expected. Please change the shape of y to (n_samples, ), for example using ravel().\n",
      "  y = column_or_1d(y, warn=True)\n",
      "[I 2024-03-06 21:46:52,480] Trial 21 finished with value: 0.0 and parameters: {'C': 0.104454809078112, 'fit_intercept': True, 'l1_ratio': 0.6738160288359221}. Best is trial 0 with value: 0.0.\n",
      "/Users/rixon/anaconda3/lib/python3.11/site-packages/sklearn/utils/validation.py:1184: DataConversionWarning: A column-vector y was passed when a 1d array was expected. Please change the shape of y to (n_samples, ), for example using ravel().\n",
      "  y = column_or_1d(y, warn=True)\n",
      "[I 2024-03-06 21:46:52,559] Trial 22 finished with value: 0.0 and parameters: {'C': 2.7025282088326517, 'fit_intercept': True, 'l1_ratio': 0.5765029947824029}. Best is trial 0 with value: 0.0.\n",
      "/Users/rixon/anaconda3/lib/python3.11/site-packages/sklearn/utils/validation.py:1184: DataConversionWarning: A column-vector y was passed when a 1d array was expected. Please change the shape of y to (n_samples, ), for example using ravel().\n",
      "  y = column_or_1d(y, warn=True)\n",
      "[I 2024-03-06 21:46:52,626] Trial 23 finished with value: 0.0 and parameters: {'C': 1.0440076389243007, 'fit_intercept': True, 'l1_ratio': 0.7915480242077563}. Best is trial 0 with value: 0.0.\n",
      "/Users/rixon/anaconda3/lib/python3.11/site-packages/sklearn/utils/validation.py:1184: DataConversionWarning: A column-vector y was passed when a 1d array was expected. Please change the shape of y to (n_samples, ), for example using ravel().\n",
      "  y = column_or_1d(y, warn=True)\n",
      "[I 2024-03-06 21:46:52,672] Trial 24 finished with value: 0.0 and parameters: {'C': 0.22535721473721007, 'fit_intercept': True, 'l1_ratio': 0.6279573004712021}. Best is trial 0 with value: 0.0.\n",
      "/Users/rixon/anaconda3/lib/python3.11/site-packages/sklearn/utils/validation.py:1184: DataConversionWarning: A column-vector y was passed when a 1d array was expected. Please change the shape of y to (n_samples, ), for example using ravel().\n",
      "  y = column_or_1d(y, warn=True)\n",
      "[I 2024-03-06 21:46:52,742] Trial 25 finished with value: 0.0 and parameters: {'C': 1.3796397808702752, 'fit_intercept': True, 'l1_ratio': 0.774945896247403}. Best is trial 0 with value: 0.0.\n",
      "/Users/rixon/anaconda3/lib/python3.11/site-packages/sklearn/utils/validation.py:1184: DataConversionWarning: A column-vector y was passed when a 1d array was expected. Please change the shape of y to (n_samples, ), for example using ravel().\n",
      "  y = column_or_1d(y, warn=True)\n",
      "[I 2024-03-06 21:46:52,821] Trial 26 finished with value: 0.0 and parameters: {'C': 3.056216486221289, 'fit_intercept': False, 'l1_ratio': 0.5372848474087724}. Best is trial 0 with value: 0.0.\n",
      "/Users/rixon/anaconda3/lib/python3.11/site-packages/sklearn/utils/validation.py:1184: DataConversionWarning: A column-vector y was passed when a 1d array was expected. Please change the shape of y to (n_samples, ), for example using ravel().\n",
      "  y = column_or_1d(y, warn=True)\n",
      "[I 2024-03-06 21:46:52,888] Trial 27 finished with value: 0.0 and parameters: {'C': 0.7517718576791186, 'fit_intercept': True, 'l1_ratio': 0.40831691968270845}. Best is trial 0 with value: 0.0.\n",
      "/Users/rixon/anaconda3/lib/python3.11/site-packages/sklearn/utils/validation.py:1184: DataConversionWarning: A column-vector y was passed when a 1d array was expected. Please change the shape of y to (n_samples, ), for example using ravel().\n",
      "  y = column_or_1d(y, warn=True)\n",
      "[I 2024-03-06 21:46:52,965] Trial 28 finished with value: 0.0 and parameters: {'C': 4.206813880151088, 'fit_intercept': False, 'l1_ratio': 0.9124669683454372}. Best is trial 0 with value: 0.0.\n",
      "/Users/rixon/anaconda3/lib/python3.11/site-packages/sklearn/utils/validation.py:1184: DataConversionWarning: A column-vector y was passed when a 1d array was expected. Please change the shape of y to (n_samples, ), for example using ravel().\n",
      "  y = column_or_1d(y, warn=True)\n",
      "[I 2024-03-06 21:46:53,045] Trial 29 finished with value: 0.0 and parameters: {'C': 9.861292263724655, 'fit_intercept': True, 'l1_ratio': 0.7301714995132921}. Best is trial 0 with value: 0.0.\n",
      "/Users/rixon/anaconda3/lib/python3.11/site-packages/sklearn/utils/validation.py:1184: DataConversionWarning: A column-vector y was passed when a 1d array was expected. Please change the shape of y to (n_samples, ), for example using ravel().\n",
      "  y = column_or_1d(y, warn=True)\n",
      "[I 2024-03-06 21:46:53,126] Trial 30 finished with value: 0.0 and parameters: {'C': 6.0857391897715445, 'fit_intercept': True, 'l1_ratio': 0.6233095378030479}. Best is trial 0 with value: 0.0.\n",
      "/Users/rixon/anaconda3/lib/python3.11/site-packages/sklearn/utils/validation.py:1184: DataConversionWarning: A column-vector y was passed when a 1d array was expected. Please change the shape of y to (n_samples, ), for example using ravel().\n",
      "  y = column_or_1d(y, warn=True)\n",
      "[I 2024-03-06 21:46:53,206] Trial 31 finished with value: 0.0 and parameters: {'C': 5.410528274385622, 'fit_intercept': True, 'l1_ratio': 0.16426273177694237}. Best is trial 0 with value: 0.0.\n",
      "/Users/rixon/anaconda3/lib/python3.11/site-packages/sklearn/utils/validation.py:1184: DataConversionWarning: A column-vector y was passed when a 1d array was expected. Please change the shape of y to (n_samples, ), for example using ravel().\n",
      "  y = column_or_1d(y, warn=True)\n",
      "[I 2024-03-06 21:46:53,287] Trial 32 finished with value: 0.0 and parameters: {'C': 8.218743503248817, 'fit_intercept': True, 'l1_ratio': 0.2964880949530406}. Best is trial 0 with value: 0.0.\n",
      "/Users/rixon/anaconda3/lib/python3.11/site-packages/sklearn/utils/validation.py:1184: DataConversionWarning: A column-vector y was passed when a 1d array was expected. Please change the shape of y to (n_samples, ), for example using ravel().\n",
      "  y = column_or_1d(y, warn=True)\n",
      "[I 2024-03-06 21:46:53,367] Trial 33 finished with value: 0.0 and parameters: {'C': 2.627422071872883, 'fit_intercept': True, 'l1_ratio': 0.08386812498340708}. Best is trial 0 with value: 0.0.\n",
      "/Users/rixon/anaconda3/lib/python3.11/site-packages/sklearn/utils/validation.py:1184: DataConversionWarning: A column-vector y was passed when a 1d array was expected. Please change the shape of y to (n_samples, ), for example using ravel().\n",
      "  y = column_or_1d(y, warn=True)\n",
      "[I 2024-03-06 21:46:53,447] Trial 34 finished with value: 0.0 and parameters: {'C': 5.779166302883443, 'fit_intercept': True, 'l1_ratio': 0.7879089859949342}. Best is trial 0 with value: 0.0.\n",
      "/Users/rixon/anaconda3/lib/python3.11/site-packages/sklearn/utils/validation.py:1184: DataConversionWarning: A column-vector y was passed when a 1d array was expected. Please change the shape of y to (n_samples, ), for example using ravel().\n",
      "  y = column_or_1d(y, warn=True)\n",
      "[I 2024-03-06 21:46:53,527] Trial 35 finished with value: 0.0 and parameters: {'C': 6.812952275006266, 'fit_intercept': True, 'l1_ratio': 0.26389264241479327}. Best is trial 0 with value: 0.0.\n",
      "/Users/rixon/anaconda3/lib/python3.11/site-packages/sklearn/utils/validation.py:1184: DataConversionWarning: A column-vector y was passed when a 1d array was expected. Please change the shape of y to (n_samples, ), for example using ravel().\n",
      "  y = column_or_1d(y, warn=True)\n",
      "[I 2024-03-06 21:46:53,605] Trial 36 finished with value: 0.0 and parameters: {'C': 3.9015628130237183, 'fit_intercept': True, 'l1_ratio': 0.8516479613677289}. Best is trial 0 with value: 0.0.\n",
      "/Users/rixon/anaconda3/lib/python3.11/site-packages/sklearn/utils/validation.py:1184: DataConversionWarning: A column-vector y was passed when a 1d array was expected. Please change the shape of y to (n_samples, ), for example using ravel().\n",
      "  y = column_or_1d(y, warn=True)\n",
      "[I 2024-03-06 21:46:53,684] Trial 37 finished with value: 0.0 and parameters: {'C': 4.701082842582379, 'fit_intercept': True, 'l1_ratio': 0.6518128913866508}. Best is trial 0 with value: 0.0.\n",
      "/Users/rixon/anaconda3/lib/python3.11/site-packages/sklearn/utils/validation.py:1184: DataConversionWarning: A column-vector y was passed when a 1d array was expected. Please change the shape of y to (n_samples, ), for example using ravel().\n",
      "  y = column_or_1d(y, warn=True)\n",
      "[I 2024-03-06 21:46:53,765] Trial 38 finished with value: 0.0 and parameters: {'C': 9.061157922567869, 'fit_intercept': False, 'l1_ratio': 0.43421620263356575}. Best is trial 0 with value: 0.0.\n",
      "/Users/rixon/anaconda3/lib/python3.11/site-packages/sklearn/utils/validation.py:1184: DataConversionWarning: A column-vector y was passed when a 1d array was expected. Please change the shape of y to (n_samples, ), for example using ravel().\n",
      "  y = column_or_1d(y, warn=True)\n",
      "[I 2024-03-06 21:46:53,846] Trial 39 finished with value: 0.0 and parameters: {'C': 7.119294404051785, 'fit_intercept': True, 'l1_ratio': 0.009395095551213983}. Best is trial 0 with value: 0.0.\n",
      "/Users/rixon/anaconda3/lib/python3.11/site-packages/sklearn/utils/validation.py:1184: DataConversionWarning: A column-vector y was passed when a 1d array was expected. Please change the shape of y to (n_samples, ), for example using ravel().\n",
      "  y = column_or_1d(y, warn=True)\n",
      "[I 2024-03-06 21:46:53,922] Trial 40 finished with value: 0.0 and parameters: {'C': 1.6481081914783686, 'fit_intercept': False, 'l1_ratio': 0.3407456649587059}. Best is trial 0 with value: 0.0.\n",
      "/Users/rixon/anaconda3/lib/python3.11/site-packages/sklearn/utils/validation.py:1184: DataConversionWarning: A column-vector y was passed when a 1d array was expected. Please change the shape of y to (n_samples, ), for example using ravel().\n",
      "  y = column_or_1d(y, warn=True)\n",
      "[I 2024-03-06 21:46:54,001] Trial 41 finished with value: 0.0 and parameters: {'C': 3.4398851069477145, 'fit_intercept': True, 'l1_ratio': 0.5138906289755745}. Best is trial 0 with value: 0.0.\n",
      "/Users/rixon/anaconda3/lib/python3.11/site-packages/sklearn/utils/validation.py:1184: DataConversionWarning: A column-vector y was passed when a 1d array was expected. Please change the shape of y to (n_samples, ), for example using ravel().\n",
      "  y = column_or_1d(y, warn=True)\n",
      "[I 2024-03-06 21:46:54,081] Trial 42 finished with value: 0.0 and parameters: {'C': 2.1116811354053473, 'fit_intercept': True, 'l1_ratio': 0.7573847033636479}. Best is trial 0 with value: 0.0.\n",
      "/Users/rixon/anaconda3/lib/python3.11/site-packages/sklearn/utils/validation.py:1184: DataConversionWarning: A column-vector y was passed when a 1d array was expected. Please change the shape of y to (n_samples, ), for example using ravel().\n",
      "  y = column_or_1d(y, warn=True)\n",
      "[I 2024-03-06 21:46:54,161] Trial 43 finished with value: 0.0 and parameters: {'C': 4.92213085457371, 'fit_intercept': True, 'l1_ratio': 0.8248560470365766}. Best is trial 0 with value: 0.0.\n",
      "/Users/rixon/anaconda3/lib/python3.11/site-packages/sklearn/utils/validation.py:1184: DataConversionWarning: A column-vector y was passed when a 1d array was expected. Please change the shape of y to (n_samples, ), for example using ravel().\n",
      "  y = column_or_1d(y, warn=True)\n",
      "[I 2024-03-06 21:46:54,225] Trial 44 finished with value: 0.0 and parameters: {'C': 0.46645635210458636, 'fit_intercept': False, 'l1_ratio': 0.6949073660160252}. Best is trial 0 with value: 0.0.\n",
      "/Users/rixon/anaconda3/lib/python3.11/site-packages/sklearn/utils/validation.py:1184: DataConversionWarning: A column-vector y was passed when a 1d array was expected. Please change the shape of y to (n_samples, ), for example using ravel().\n",
      "  y = column_or_1d(y, warn=True)\n",
      "[I 2024-03-06 21:46:54,303] Trial 45 finished with value: 0.0 and parameters: {'C': 3.9462405746420752, 'fit_intercept': True, 'l1_ratio': 0.9094254273412623}. Best is trial 0 with value: 0.0.\n",
      "/Users/rixon/anaconda3/lib/python3.11/site-packages/sklearn/utils/validation.py:1184: DataConversionWarning: A column-vector y was passed when a 1d array was expected. Please change the shape of y to (n_samples, ), for example using ravel().\n",
      "  y = column_or_1d(y, warn=True)\n",
      "[I 2024-03-06 21:46:54,382] Trial 46 finished with value: 0.0 and parameters: {'C': 5.270010843971453, 'fit_intercept': False, 'l1_ratio': 0.5808621459697009}. Best is trial 0 with value: 0.0.\n",
      "/Users/rixon/anaconda3/lib/python3.11/site-packages/sklearn/utils/validation.py:1184: DataConversionWarning: A column-vector y was passed when a 1d array was expected. Please change the shape of y to (n_samples, ), for example using ravel().\n",
      "  y = column_or_1d(y, warn=True)\n",
      "[I 2024-03-06 21:46:54,460] Trial 47 finished with value: 0.0 and parameters: {'C': 2.7004430327366755, 'fit_intercept': True, 'l1_ratio': 0.4846115233882751}. Best is trial 0 with value: 0.0.\n",
      "/Users/rixon/anaconda3/lib/python3.11/site-packages/sklearn/utils/validation.py:1184: DataConversionWarning: A column-vector y was passed when a 1d array was expected. Please change the shape of y to (n_samples, ), for example using ravel().\n",
      "  y = column_or_1d(y, warn=True)\n",
      "[I 2024-03-06 21:46:54,534] Trial 48 finished with value: 0.0 and parameters: {'C': 1.6446401947181235, 'fit_intercept': False, 'l1_ratio': 0.6052469030098371}. Best is trial 0 with value: 0.0.\n",
      "/Users/rixon/anaconda3/lib/python3.11/site-packages/sklearn/utils/validation.py:1184: DataConversionWarning: A column-vector y was passed when a 1d array was expected. Please change the shape of y to (n_samples, ), for example using ravel().\n",
      "  y = column_or_1d(y, warn=True)\n",
      "[I 2024-03-06 21:46:54,601] Trial 49 finished with value: 0.0 and parameters: {'C': 0.7553535338848681, 'fit_intercept': True, 'l1_ratio': 0.6686183528342721}. Best is trial 0 with value: 0.0.\n",
      "/Users/rixon/anaconda3/lib/python3.11/site-packages/sklearn/utils/validation.py:1184: DataConversionWarning: A column-vector y was passed when a 1d array was expected. Please change the shape of y to (n_samples, ), for example using ravel().\n",
      "  y = column_or_1d(y, warn=True)\n",
      "[I 2024-03-06 21:46:54,680] Trial 50 finished with value: 0.0 and parameters: {'C': 3.6964503474340313, 'fit_intercept': True, 'l1_ratio': 0.736413549504243}. Best is trial 0 with value: 0.0.\n",
      "/Users/rixon/anaconda3/lib/python3.11/site-packages/sklearn/utils/validation.py:1184: DataConversionWarning: A column-vector y was passed when a 1d array was expected. Please change the shape of y to (n_samples, ), for example using ravel().\n",
      "  y = column_or_1d(y, warn=True)\n",
      "[I 2024-03-06 21:46:54,760] Trial 51 finished with value: 0.0 and parameters: {'C': 3.103554264273319, 'fit_intercept': True, 'l1_ratio': 0.09809914765490131}. Best is trial 0 with value: 0.0.\n",
      "/Users/rixon/anaconda3/lib/python3.11/site-packages/sklearn/utils/validation.py:1184: DataConversionWarning: A column-vector y was passed when a 1d array was expected. Please change the shape of y to (n_samples, ), for example using ravel().\n",
      "  y = column_or_1d(y, warn=True)\n",
      "[I 2024-03-06 21:46:54,840] Trial 52 finished with value: 0.0 and parameters: {'C': 4.460991229727947, 'fit_intercept': True, 'l1_ratio': 0.15647137836274952}. Best is trial 0 with value: 0.0.\n",
      "/Users/rixon/anaconda3/lib/python3.11/site-packages/sklearn/utils/validation.py:1184: DataConversionWarning: A column-vector y was passed when a 1d array was expected. Please change the shape of y to (n_samples, ), for example using ravel().\n",
      "  y = column_or_1d(y, warn=True)\n",
      "[I 2024-03-06 21:46:54,921] Trial 53 finished with value: 0.0 and parameters: {'C': 5.6876574344614355, 'fit_intercept': True, 'l1_ratio': 0.20033640394601507}. Best is trial 0 with value: 0.0.\n",
      "/Users/rixon/anaconda3/lib/python3.11/site-packages/sklearn/utils/validation.py:1184: DataConversionWarning: A column-vector y was passed when a 1d array was expected. Please change the shape of y to (n_samples, ), for example using ravel().\n",
      "  y = column_or_1d(y, warn=True)\n",
      "[I 2024-03-06 21:46:55,001] Trial 54 finished with value: 0.0 and parameters: {'C': 2.414669290308665, 'fit_intercept': True, 'l1_ratio': 0.06537937046968484}. Best is trial 0 with value: 0.0.\n",
      "/Users/rixon/anaconda3/lib/python3.11/site-packages/sklearn/utils/validation.py:1184: DataConversionWarning: A column-vector y was passed when a 1d array was expected. Please change the shape of y to (n_samples, ), for example using ravel().\n",
      "  y = column_or_1d(y, warn=True)\n",
      "[I 2024-03-06 21:46:55,079] Trial 55 finished with value: 0.0 and parameters: {'C': 3.2613812899468444, 'fit_intercept': False, 'l1_ratio': 0.7022721718505507}. Best is trial 0 with value: 0.0.\n",
      "/Users/rixon/anaconda3/lib/python3.11/site-packages/sklearn/utils/validation.py:1184: DataConversionWarning: A column-vector y was passed when a 1d array was expected. Please change the shape of y to (n_samples, ), for example using ravel().\n",
      "  y = column_or_1d(y, warn=True)\n",
      "[I 2024-03-06 21:46:55,163] Trial 56 finished with value: 0.0 and parameters: {'C': 4.930612701131489, 'fit_intercept': True, 'l1_ratio': 0.2268713193395022}. Best is trial 0 with value: 0.0.\n",
      "/Users/rixon/anaconda3/lib/python3.11/site-packages/sklearn/utils/validation.py:1184: DataConversionWarning: A column-vector y was passed when a 1d array was expected. Please change the shape of y to (n_samples, ), for example using ravel().\n",
      "  y = column_or_1d(y, warn=True)\n",
      "[I 2024-03-06 21:46:55,242] Trial 57 finished with value: 0.0 and parameters: {'C': 4.244565382991678, 'fit_intercept': True, 'l1_ratio': 0.816647419475821}. Best is trial 0 with value: 0.0.\n",
      "/Users/rixon/anaconda3/lib/python3.11/site-packages/sklearn/utils/validation.py:1184: DataConversionWarning: A column-vector y was passed when a 1d array was expected. Please change the shape of y to (n_samples, ), for example using ravel().\n",
      "  y = column_or_1d(y, warn=True)\n",
      "[I 2024-03-06 21:46:55,307] Trial 58 finished with value: 0.0 and parameters: {'C': 0.4576863851476404, 'fit_intercept': False, 'l1_ratio': 0.5363751840472782}. Best is trial 0 with value: 0.0.\n",
      "/Users/rixon/anaconda3/lib/python3.11/site-packages/sklearn/utils/validation.py:1184: DataConversionWarning: A column-vector y was passed when a 1d array was expected. Please change the shape of y to (n_samples, ), for example using ravel().\n",
      "  y = column_or_1d(y, warn=True)\n",
      "[I 2024-03-06 21:46:55,351] Trial 59 finished with value: 0.0 and parameters: {'C': 0.06431534339082567, 'fit_intercept': True, 'l1_ratio': 0.11517002660197699}. Best is trial 0 with value: 0.0.\n",
      "/Users/rixon/anaconda3/lib/python3.11/site-packages/sklearn/utils/validation.py:1184: DataConversionWarning: A column-vector y was passed when a 1d array was expected. Please change the shape of y to (n_samples, ), for example using ravel().\n",
      "  y = column_or_1d(y, warn=True)\n",
      "[I 2024-03-06 21:46:55,430] Trial 60 finished with value: 0.0 and parameters: {'C': 1.8933003069285244, 'fit_intercept': True, 'l1_ratio': 0.045913045547601394}. Best is trial 0 with value: 0.0.\n",
      "/Users/rixon/anaconda3/lib/python3.11/site-packages/sklearn/utils/validation.py:1184: DataConversionWarning: A column-vector y was passed when a 1d array was expected. Please change the shape of y to (n_samples, ), for example using ravel().\n",
      "  y = column_or_1d(y, warn=True)\n",
      "[I 2024-03-06 21:46:55,505] Trial 61 finished with value: 0.0 and parameters: {'C': 2.380941743797338, 'fit_intercept': True, 'l1_ratio': 0.9000878891882983}. Best is trial 0 with value: 0.0.\n",
      "/Users/rixon/anaconda3/lib/python3.11/site-packages/sklearn/utils/validation.py:1184: DataConversionWarning: A column-vector y was passed when a 1d array was expected. Please change the shape of y to (n_samples, ), for example using ravel().\n",
      "  y = column_or_1d(y, warn=True)\n",
      "[I 2024-03-06 21:46:55,572] Trial 62 finished with value: 0.0 and parameters: {'C': 1.3488984188762767, 'fit_intercept': True, 'l1_ratio': 0.8628014733030758}. Best is trial 0 with value: 0.0.\n",
      "/Users/rixon/anaconda3/lib/python3.11/site-packages/sklearn/utils/validation.py:1184: DataConversionWarning: A column-vector y was passed when a 1d array was expected. Please change the shape of y to (n_samples, ), for example using ravel().\n",
      "  y = column_or_1d(y, warn=True)\n",
      "[I 2024-03-06 21:46:55,650] Trial 63 finished with value: 0.0 and parameters: {'C': 3.66039425404764, 'fit_intercept': True, 'l1_ratio': 0.7457891752725703}. Best is trial 0 with value: 0.0.\n",
      "/Users/rixon/anaconda3/lib/python3.11/site-packages/sklearn/utils/validation.py:1184: DataConversionWarning: A column-vector y was passed when a 1d array was expected. Please change the shape of y to (n_samples, ), for example using ravel().\n",
      "  y = column_or_1d(y, warn=True)\n",
      "[I 2024-03-06 21:46:55,728] Trial 64 finished with value: 0.0 and parameters: {'C': 2.9371430609469864, 'fit_intercept': True, 'l1_ratio': 0.6449871852949449}. Best is trial 0 with value: 0.0.\n",
      "/Users/rixon/anaconda3/lib/python3.11/site-packages/sklearn/utils/validation.py:1184: DataConversionWarning: A column-vector y was passed when a 1d array was expected. Please change the shape of y to (n_samples, ), for example using ravel().\n",
      "  y = column_or_1d(y, warn=True)\n",
      "[I 2024-03-06 21:46:55,797] Trial 65 finished with value: 0.0 and parameters: {'C': 0.864943128180585, 'fit_intercept': True, 'l1_ratio': 0.9570453467694434}. Best is trial 0 with value: 0.0.\n",
      "/Users/rixon/anaconda3/lib/python3.11/site-packages/sklearn/utils/validation.py:1184: DataConversionWarning: A column-vector y was passed when a 1d array was expected. Please change the shape of y to (n_samples, ), for example using ravel().\n",
      "  y = column_or_1d(y, warn=True)\n",
      "[I 2024-03-06 21:46:55,874] Trial 66 finished with value: 0.0 and parameters: {'C': 1.2424007227397527, 'fit_intercept': False, 'l1_ratio': 0.4405595133994278}. Best is trial 0 with value: 0.0.\n",
      "/Users/rixon/anaconda3/lib/python3.11/site-packages/sklearn/utils/validation.py:1184: DataConversionWarning: A column-vector y was passed when a 1d array was expected. Please change the shape of y to (n_samples, ), for example using ravel().\n",
      "  y = column_or_1d(y, warn=True)\n",
      "[I 2024-03-06 21:46:55,955] Trial 67 finished with value: 0.0 and parameters: {'C': 2.2205238500400517, 'fit_intercept': True, 'l1_ratio': 0.5992727163969501}. Best is trial 0 with value: 0.0.\n",
      "/Users/rixon/anaconda3/lib/python3.11/site-packages/sklearn/utils/validation.py:1184: DataConversionWarning: A column-vector y was passed when a 1d array was expected. Please change the shape of y to (n_samples, ), for example using ravel().\n",
      "  y = column_or_1d(y, warn=True)\n",
      "[I 2024-03-06 21:46:56,020] Trial 68 finished with value: 0.0 and parameters: {'C': 0.5065929513021437, 'fit_intercept': True, 'l1_ratio': 0.34715589242849315}. Best is trial 0 with value: 0.0.\n",
      "/Users/rixon/anaconda3/lib/python3.11/site-packages/sklearn/utils/validation.py:1184: DataConversionWarning: A column-vector y was passed when a 1d array was expected. Please change the shape of y to (n_samples, ), for example using ravel().\n",
      "  y = column_or_1d(y, warn=True)\n",
      "[I 2024-03-06 21:46:56,102] Trial 69 finished with value: 0.0 and parameters: {'C': 6.446506341509882, 'fit_intercept': True, 'l1_ratio': 0.8119373893410187}. Best is trial 0 with value: 0.0.\n",
      "/Users/rixon/anaconda3/lib/python3.11/site-packages/sklearn/utils/validation.py:1184: DataConversionWarning: A column-vector y was passed when a 1d array was expected. Please change the shape of y to (n_samples, ), for example using ravel().\n",
      "  y = column_or_1d(y, warn=True)\n",
      "[I 2024-03-06 21:46:56,177] Trial 70 finished with value: 0.0 and parameters: {'C': 1.8953633599013124, 'fit_intercept': False, 'l1_ratio': 0.7758302412680439}. Best is trial 0 with value: 0.0.\n",
      "/Users/rixon/anaconda3/lib/python3.11/site-packages/sklearn/utils/validation.py:1184: DataConversionWarning: A column-vector y was passed when a 1d array was expected. Please change the shape of y to (n_samples, ), for example using ravel().\n",
      "  y = column_or_1d(y, warn=True)\n",
      "[I 2024-03-06 21:46:56,260] Trial 71 finished with value: 0.0 and parameters: {'C': 8.959431660620165, 'fit_intercept': True, 'l1_ratio': 0.6909291236329144}. Best is trial 0 with value: 0.0.\n",
      "/Users/rixon/anaconda3/lib/python3.11/site-packages/sklearn/utils/validation.py:1184: DataConversionWarning: A column-vector y was passed when a 1d array was expected. Please change the shape of y to (n_samples, ), for example using ravel().\n",
      "  y = column_or_1d(y, warn=True)\n",
      "[I 2024-03-06 21:46:56,343] Trial 72 finished with value: 0.0 and parameters: {'C': 8.359180177320368, 'fit_intercept': True, 'l1_ratio': 0.5617728845748469}. Best is trial 0 with value: 0.0.\n",
      "/Users/rixon/anaconda3/lib/python3.11/site-packages/sklearn/utils/validation.py:1184: DataConversionWarning: A column-vector y was passed when a 1d array was expected. Please change the shape of y to (n_samples, ), for example using ravel().\n",
      "  y = column_or_1d(y, warn=True)\n",
      "[I 2024-03-06 21:46:56,427] Trial 73 finished with value: 0.0 and parameters: {'C': 7.585828841646693, 'fit_intercept': True, 'l1_ratio': 0.6270708938349285}. Best is trial 0 with value: 0.0.\n",
      "/Users/rixon/anaconda3/lib/python3.11/site-packages/sklearn/utils/validation.py:1184: DataConversionWarning: A column-vector y was passed when a 1d array was expected. Please change the shape of y to (n_samples, ), for example using ravel().\n",
      "  y = column_or_1d(y, warn=True)\n",
      "[I 2024-03-06 21:46:56,508] Trial 74 finished with value: 0.0 and parameters: {'C': 3.597927413135766, 'fit_intercept': True, 'l1_ratio': 0.6591259902844833}. Best is trial 0 with value: 0.0.\n",
      "/Users/rixon/anaconda3/lib/python3.11/site-packages/sklearn/utils/validation.py:1184: DataConversionWarning: A column-vector y was passed when a 1d array was expected. Please change the shape of y to (n_samples, ), for example using ravel().\n",
      "  y = column_or_1d(y, warn=True)\n",
      "[I 2024-03-06 21:46:56,589] Trial 75 finished with value: 0.0 and parameters: {'C': 3.9934456319742613, 'fit_intercept': True, 'l1_ratio': 0.7122735423591945}. Best is trial 0 with value: 0.0.\n",
      "/Users/rixon/anaconda3/lib/python3.11/site-packages/sklearn/utils/validation.py:1184: DataConversionWarning: A column-vector y was passed when a 1d array was expected. Please change the shape of y to (n_samples, ), for example using ravel().\n",
      "  y = column_or_1d(y, warn=True)\n",
      "[I 2024-03-06 21:46:56,671] Trial 76 finished with value: 0.0 and parameters: {'C': 9.899929384426994, 'fit_intercept': True, 'l1_ratio': 0.7582544298654904}. Best is trial 0 with value: 0.0.\n",
      "/Users/rixon/anaconda3/lib/python3.11/site-packages/sklearn/utils/validation.py:1184: DataConversionWarning: A column-vector y was passed when a 1d array was expected. Please change the shape of y to (n_samples, ), for example using ravel().\n",
      "  y = column_or_1d(y, warn=True)\n",
      "[I 2024-03-06 21:46:56,749] Trial 77 finished with value: 0.0 and parameters: {'C': 2.9117959246603426, 'fit_intercept': False, 'l1_ratio': 0.8719394588926646}. Best is trial 0 with value: 0.0.\n",
      "/Users/rixon/anaconda3/lib/python3.11/site-packages/sklearn/utils/validation.py:1184: DataConversionWarning: A column-vector y was passed when a 1d array was expected. Please change the shape of y to (n_samples, ), for example using ravel().\n",
      "  y = column_or_1d(y, warn=True)\n",
      "[I 2024-03-06 21:46:56,829] Trial 78 finished with value: 0.0 and parameters: {'C': 1.5362558605543852, 'fit_intercept': True, 'l1_ratio': 0.003656308252362628}. Best is trial 0 with value: 0.0.\n",
      "/Users/rixon/anaconda3/lib/python3.11/site-packages/sklearn/utils/validation.py:1184: DataConversionWarning: A column-vector y was passed when a 1d array was expected. Please change the shape of y to (n_samples, ), for example using ravel().\n",
      "  y = column_or_1d(y, warn=True)\n",
      "[I 2024-03-06 21:46:56,906] Trial 79 finished with value: 0.0 and parameters: {'C': 3.310713652549288, 'fit_intercept': True, 'l1_ratio': 0.997446198579408}. Best is trial 0 with value: 0.0.\n",
      "/Users/rixon/anaconda3/lib/python3.11/site-packages/sklearn/utils/validation.py:1184: DataConversionWarning: A column-vector y was passed when a 1d array was expected. Please change the shape of y to (n_samples, ), for example using ravel().\n",
      "  y = column_or_1d(y, warn=True)\n",
      "[I 2024-03-06 21:46:56,986] Trial 80 finished with value: 0.0 and parameters: {'C': 4.565570296916224, 'fit_intercept': True, 'l1_ratio': 0.516934066372638}. Best is trial 0 with value: 0.0.\n",
      "/Users/rixon/anaconda3/lib/python3.11/site-packages/sklearn/utils/validation.py:1184: DataConversionWarning: A column-vector y was passed when a 1d array was expected. Please change the shape of y to (n_samples, ), for example using ravel().\n",
      "  y = column_or_1d(y, warn=True)\n",
      "[I 2024-03-06 21:46:57,068] Trial 81 finished with value: 0.0 and parameters: {'C': 9.12661391981684, 'fit_intercept': False, 'l1_ratio': 0.25567254278016965}. Best is trial 0 with value: 0.0.\n",
      "/Users/rixon/anaconda3/lib/python3.11/site-packages/sklearn/utils/validation.py:1184: DataConversionWarning: A column-vector y was passed when a 1d array was expected. Please change the shape of y to (n_samples, ), for example using ravel().\n",
      "  y = column_or_1d(y, warn=True)\n",
      "[I 2024-03-06 21:46:57,150] Trial 82 finished with value: 0.0 and parameters: {'C': 7.241510214796898, 'fit_intercept': False, 'l1_ratio': 0.1712132423502494}. Best is trial 0 with value: 0.0.\n",
      "/Users/rixon/anaconda3/lib/python3.11/site-packages/sklearn/utils/validation.py:1184: DataConversionWarning: A column-vector y was passed when a 1d array was expected. Please change the shape of y to (n_samples, ), for example using ravel().\n",
      "  y = column_or_1d(y, warn=True)\n",
      "[I 2024-03-06 21:46:57,232] Trial 83 finished with value: 0.0 and parameters: {'C': 6.05576808939308, 'fit_intercept': False, 'l1_ratio': 0.29120429379563706}. Best is trial 0 with value: 0.0.\n",
      "/Users/rixon/anaconda3/lib/python3.11/site-packages/sklearn/utils/validation.py:1184: DataConversionWarning: A column-vector y was passed when a 1d array was expected. Please change the shape of y to (n_samples, ), for example using ravel().\n",
      "  y = column_or_1d(y, warn=True)\n",
      "[I 2024-03-06 21:46:57,315] Trial 84 finished with value: 0.0 and parameters: {'C': 8.612981549762155, 'fit_intercept': False, 'l1_ratio': 0.5964304655951949}. Best is trial 0 with value: 0.0.\n",
      "/Users/rixon/anaconda3/lib/python3.11/site-packages/sklearn/utils/validation.py:1184: DataConversionWarning: A column-vector y was passed when a 1d array was expected. Please change the shape of y to (n_samples, ), for example using ravel().\n",
      "  y = column_or_1d(y, warn=True)\n",
      "[I 2024-03-06 21:46:57,396] Trial 85 finished with value: 0.0 and parameters: {'C': 7.808305572874923, 'fit_intercept': False, 'l1_ratio': 0.3482279613232846}. Best is trial 0 with value: 0.0.\n",
      "/Users/rixon/anaconda3/lib/python3.11/site-packages/sklearn/utils/validation.py:1184: DataConversionWarning: A column-vector y was passed when a 1d array was expected. Please change the shape of y to (n_samples, ), for example using ravel().\n",
      "  y = column_or_1d(y, warn=True)\n",
      "[I 2024-03-06 21:46:57,477] Trial 86 finished with value: 0.0 and parameters: {'C': 5.201147484478067, 'fit_intercept': True, 'l1_ratio': 0.457441988049004}. Best is trial 0 with value: 0.0.\n",
      "/Users/rixon/anaconda3/lib/python3.11/site-packages/sklearn/utils/validation.py:1184: DataConversionWarning: A column-vector y was passed when a 1d array was expected. Please change the shape of y to (n_samples, ), for example using ravel().\n",
      "  y = column_or_1d(y, warn=True)\n",
      "[I 2024-03-06 21:46:57,557] Trial 87 finished with value: 0.0 and parameters: {'C': 4.3360154452612, 'fit_intercept': False, 'l1_ratio': 0.7258096758899003}. Best is trial 0 with value: 0.0.\n",
      "/Users/rixon/anaconda3/lib/python3.11/site-packages/sklearn/utils/validation.py:1184: DataConversionWarning: A column-vector y was passed when a 1d array was expected. Please change the shape of y to (n_samples, ), for example using ravel().\n",
      "  y = column_or_1d(y, warn=True)\n",
      "[I 2024-03-06 21:46:57,639] Trial 88 finished with value: 0.0 and parameters: {'C': 6.847460322201366, 'fit_intercept': True, 'l1_ratio': 0.13169036233195638}. Best is trial 0 with value: 0.0.\n",
      "/Users/rixon/anaconda3/lib/python3.11/site-packages/sklearn/utils/validation.py:1184: DataConversionWarning: A column-vector y was passed when a 1d array was expected. Please change the shape of y to (n_samples, ), for example using ravel().\n",
      "  y = column_or_1d(y, warn=True)\n",
      "[I 2024-03-06 21:46:57,718] Trial 89 finished with value: 0.0 and parameters: {'C': 4.071482447650723, 'fit_intercept': True, 'l1_ratio': 0.5597473532739028}. Best is trial 0 with value: 0.0.\n",
      "/Users/rixon/anaconda3/lib/python3.11/site-packages/sklearn/utils/validation.py:1184: DataConversionWarning: A column-vector y was passed when a 1d array was expected. Please change the shape of y to (n_samples, ), for example using ravel().\n",
      "  y = column_or_1d(y, warn=True)\n",
      "[I 2024-03-06 21:46:57,801] Trial 90 finished with value: 0.0 and parameters: {'C': 9.547014317843997, 'fit_intercept': True, 'l1_ratio': 0.8366703828771487}. Best is trial 0 with value: 0.0.\n",
      "/Users/rixon/anaconda3/lib/python3.11/site-packages/sklearn/utils/validation.py:1184: DataConversionWarning: A column-vector y was passed when a 1d array was expected. Please change the shape of y to (n_samples, ), for example using ravel().\n",
      "  y = column_or_1d(y, warn=True)\n",
      "[I 2024-03-06 21:46:57,883] Trial 91 finished with value: 0.0 and parameters: {'C': 6.200962083211398, 'fit_intercept': False, 'l1_ratio': 0.035157518073809624}. Best is trial 0 with value: 0.0.\n",
      "/Users/rixon/anaconda3/lib/python3.11/site-packages/sklearn/utils/validation.py:1184: DataConversionWarning: A column-vector y was passed when a 1d array was expected. Please change the shape of y to (n_samples, ), for example using ravel().\n",
      "  y = column_or_1d(y, warn=True)\n",
      "[I 2024-03-06 21:46:57,965] Trial 92 finished with value: 0.0 and parameters: {'C': 6.660142103597281, 'fit_intercept': False, 'l1_ratio': 0.06832392547808133}. Best is trial 0 with value: 0.0.\n",
      "/Users/rixon/anaconda3/lib/python3.11/site-packages/sklearn/utils/validation.py:1184: DataConversionWarning: A column-vector y was passed when a 1d array was expected. Please change the shape of y to (n_samples, ), for example using ravel().\n",
      "  y = column_or_1d(y, warn=True)\n",
      "[I 2024-03-06 21:46:58,047] Trial 93 finished with value: 0.0 and parameters: {'C': 5.451231410028829, 'fit_intercept': False, 'l1_ratio': 0.027079159097517905}. Best is trial 0 with value: 0.0.\n",
      "/Users/rixon/anaconda3/lib/python3.11/site-packages/sklearn/utils/validation.py:1184: DataConversionWarning: A column-vector y was passed when a 1d array was expected. Please change the shape of y to (n_samples, ), for example using ravel().\n",
      "  y = column_or_1d(y, warn=True)\n",
      "[I 2024-03-06 21:46:58,128] Trial 94 finished with value: 0.0 and parameters: {'C': 5.8378427903126315, 'fit_intercept': False, 'l1_ratio': 0.38527848400593667}. Best is trial 0 with value: 0.0.\n",
      "/Users/rixon/anaconda3/lib/python3.11/site-packages/sklearn/utils/validation.py:1184: DataConversionWarning: A column-vector y was passed when a 1d array was expected. Please change the shape of y to (n_samples, ), for example using ravel().\n",
      "  y = column_or_1d(y, warn=True)\n",
      "[I 2024-03-06 21:46:58,208] Trial 95 finished with value: 0.0 and parameters: {'C': 4.7330310138724885, 'fit_intercept': False, 'l1_ratio': 0.6898111091787139}. Best is trial 0 with value: 0.0.\n",
      "/Users/rixon/anaconda3/lib/python3.11/site-packages/sklearn/utils/validation.py:1184: DataConversionWarning: A column-vector y was passed when a 1d array was expected. Please change the shape of y to (n_samples, ), for example using ravel().\n",
      "  y = column_or_1d(y, warn=True)\n",
      "[I 2024-03-06 21:46:58,289] Trial 96 finished with value: 0.0 and parameters: {'C': 7.095277003061111, 'fit_intercept': True, 'l1_ratio': 0.7966093166787983}. Best is trial 0 with value: 0.0.\n",
      "/Users/rixon/anaconda3/lib/python3.11/site-packages/sklearn/utils/validation.py:1184: DataConversionWarning: A column-vector y was passed when a 1d array was expected. Please change the shape of y to (n_samples, ), for example using ravel().\n",
      "  y = column_or_1d(y, warn=True)\n",
      "[I 2024-03-06 21:46:58,359] Trial 97 finished with value: 0.0 and parameters: {'C': 1.1398914279655474, 'fit_intercept': True, 'l1_ratio': 0.9306857929968705}. Best is trial 0 with value: 0.0.\n",
      "/Users/rixon/anaconda3/lib/python3.11/site-packages/sklearn/utils/validation.py:1184: DataConversionWarning: A column-vector y was passed when a 1d array was expected. Please change the shape of y to (n_samples, ), for example using ravel().\n",
      "  y = column_or_1d(y, warn=True)\n",
      "[I 2024-03-06 21:46:58,425] Trial 98 finished with value: 0.0 and parameters: {'C': 0.5616259287226365, 'fit_intercept': False, 'l1_ratio': 0.6324960111490981}. Best is trial 0 with value: 0.0.\n",
      "/Users/rixon/anaconda3/lib/python3.11/site-packages/sklearn/utils/validation.py:1184: DataConversionWarning: A column-vector y was passed when a 1d array was expected. Please change the shape of y to (n_samples, ), for example using ravel().\n",
      "  y = column_or_1d(y, warn=True)\n",
      "[I 2024-03-06 21:46:58,487] Trial 99 finished with value: 0.0 and parameters: {'C': 0.3037815556112718, 'fit_intercept': True, 'l1_ratio': 0.13393143326533688}. Best is trial 0 with value: 0.0.\n"
     ]
    },
    {
     "name": "stdout",
     "output_type": "stream",
     "text": [
      "Accuracy: 0.0\n",
      "Best hyperparameters: {'C': 0.9954640533367793, 'fit_intercept': False, 'l1_ratio': 0.6295501836449665}\n",
      "Execution time: 0.12603814999262491 minutes\n"
     ]
    },
    {
     "data": {
      "text/plain": "{'C': 0.9954640533367793,\n 'fit_intercept': False,\n 'l1_ratio': 0.6295501836449665}"
     },
     "execution_count": 9,
     "metadata": {},
     "output_type": "execute_result"
    }
   ],
   "source": [
    "REGLOGOptimizer(x_train, y_train, x_test, y_test).reglog_optuna()"
   ],
   "metadata": {
    "collapsed": false,
    "ExecuteTime": {
     "end_time": "2024-03-07T03:46:58.492544Z",
     "start_time": "2024-03-07T03:46:50.929776Z"
    }
   },
   "id": "7bcedd6fd41cb6e0"
  },
  {
   "cell_type": "code",
   "execution_count": 10,
   "outputs": [
    {
     "name": "stdout",
     "output_type": "stream",
     "text": [
      "              precision    recall  f1-score   support\n",
      "\n",
      "           0       0.92      1.00      0.96        96\n",
      "           1       0.00      0.00      0.00         8\n",
      "\n",
      "    accuracy                           0.92       104\n",
      "   macro avg       0.46      0.50      0.48       104\n",
      "weighted avg       0.85      0.92      0.89       104\n"
     ]
    },
    {
     "name": "stderr",
     "output_type": "stream",
     "text": [
      "/Users/rixon/anaconda3/lib/python3.11/site-packages/sklearn/linear_model/_logistic.py:1171: UserWarning: l1_ratio parameter is only used when penalty is 'elasticnet'. Got (penalty=l2)\n",
      "  warnings.warn(\n",
      "/Users/rixon/anaconda3/lib/python3.11/site-packages/sklearn/utils/validation.py:1184: DataConversionWarning: A column-vector y was passed when a 1d array was expected. Please change the shape of y to (n_samples, ), for example using ravel().\n",
      "  y = column_or_1d(y, warn=True)\n",
      "/Users/rixon/anaconda3/lib/python3.11/site-packages/sklearn/metrics/_classification.py:1469: UndefinedMetricWarning: Precision and F-score are ill-defined and being set to 0.0 in labels with no predicted samples. Use `zero_division` parameter to control this behavior.\n",
      "  _warn_prf(average, modifier, msg_start, len(result))\n",
      "/Users/rixon/anaconda3/lib/python3.11/site-packages/sklearn/metrics/_classification.py:1469: UndefinedMetricWarning: Precision and F-score are ill-defined and being set to 0.0 in labels with no predicted samples. Use `zero_division` parameter to control this behavior.\n",
      "  _warn_prf(average, modifier, msg_start, len(result))\n",
      "/Users/rixon/anaconda3/lib/python3.11/site-packages/sklearn/metrics/_classification.py:1469: UndefinedMetricWarning: Precision and F-score are ill-defined and being set to 0.0 in labels with no predicted samples. Use `zero_division` parameter to control this behavior.\n",
      "  _warn_prf(average, modifier, msg_start, len(result))\n"
     ]
    }
   ],
   "source": [
    "from sklearn.linear_model import LogisticRegression\n",
    "\n",
    "# Define the hyperparameters\n",
    "hyperparameters = {'C': 0.9954640533367793, 'fit_intercept': False, 'l1_ratio': 0.6295501836449665}\n",
    "\n",
    "# Create the XGBoost model\n",
    "model = LogisticRegression(**hyperparameters)\n",
    "model.fit(x_train, y_train)\n",
    "y_pred = model.predict(x_test)\n",
    "f1 = f1_score(y_test, y_pred)\n",
    "report = classification_report(y_test, y_pred)\n",
    "print(report)"
   ],
   "metadata": {
    "collapsed": false,
    "ExecuteTime": {
     "end_time": "2024-03-07T03:49:31.594119Z",
     "start_time": "2024-03-07T03:49:31.548102Z"
    }
   },
   "id": "e174ead1bcc92a81"
  },
  {
   "cell_type": "markdown",
   "source": [
    "# Optuna parameters for xgboost and Logistic Regression"
   ],
   "metadata": {
    "collapsed": false
   },
   "id": "235910f3aeaaca5e"
  },
  {
   "cell_type": "code",
   "execution_count": 4,
   "outputs": [
    {
     "name": "stderr",
     "output_type": "stream",
     "text": [
      "[I 2024-03-07 01:48:57,099] A new study created in memory with name: no-name-9029c20f-bae2-44a7-b103-d7dc4ecd3fd9\n",
      "/Users/rixon/anaconda3/lib/python3.11/site-packages/xgboost/core.py:160: UserWarning: [01:48:57] WARNING: /Users/runner/work/xgboost/xgboost/src/learner.cc:742: \n",
      "Parameters: { \"gamma\", \"max_depth\", \"max_leaves\" } are not used.\n",
      "\n",
      "  warnings.warn(smsg, UserWarning)\n",
      "/Users/rixon/anaconda3/lib/python3.11/site-packages/sklearn/utils/validation.py:1184: DataConversionWarning: A column-vector y was passed when a 1d array was expected. Please change the shape of y to (n_samples, ), for example using ravel().\n",
      "  y = column_or_1d(y, warn=True)\n",
      "[I 2024-03-07 01:48:57,234] Trial 0 finished with value: 0.0 and parameters: {'xgb_n_estimators': 218, 'xgb_max_depth': 3, 'xgb_max_leaves': 4, 'xgb_learning_rate': 0.09379131701752791, 'xgb_booster': 'gblinear', 'xgb_gamma': 0.9128520641228278, 'xgb_reg_alpha': 0.577027958265575, 'xgb_reg_lambda': 0.5545544635215536, 'reglog_C': 6.529817315255884, 'reglog_fit_intercept': True, 'reglog_l1_ratio': 0.953820904767933}. Best is trial 0 with value: 0.0.\n",
      "/Users/rixon/anaconda3/lib/python3.11/site-packages/xgboost/core.py:160: UserWarning: [01:48:57] WARNING: /Users/runner/work/xgboost/xgboost/src/learner.cc:742: \n",
      "Parameters: { \"gamma\", \"max_depth\", \"max_leaves\" } are not used.\n",
      "\n",
      "  warnings.warn(smsg, UserWarning)\n",
      "/Users/rixon/anaconda3/lib/python3.11/site-packages/sklearn/utils/validation.py:1184: DataConversionWarning: A column-vector y was passed when a 1d array was expected. Please change the shape of y to (n_samples, ), for example using ravel().\n",
      "  y = column_or_1d(y, warn=True)\n",
      "[I 2024-03-07 01:48:57,349] Trial 1 finished with value: 0.0 and parameters: {'xgb_n_estimators': 414, 'xgb_max_depth': 7, 'xgb_max_leaves': 6, 'xgb_learning_rate': 0.20590628619487064, 'xgb_booster': 'gblinear', 'xgb_gamma': 0.7156859674572743, 'xgb_reg_alpha': 0.9458283226371186, 'xgb_reg_lambda': 0.5611570545812126, 'reglog_C': 9.057932628926043, 'reglog_fit_intercept': True, 'reglog_l1_ratio': 0.39851285882235943}. Best is trial 0 with value: 0.0.\n",
      "/Users/rixon/anaconda3/lib/python3.11/site-packages/sklearn/utils/validation.py:1184: DataConversionWarning: A column-vector y was passed when a 1d array was expected. Please change the shape of y to (n_samples, ), for example using ravel().\n",
      "  y = column_or_1d(y, warn=True)\n",
      "[I 2024-03-07 01:49:02,658] Trial 2 finished with value: 0.0 and parameters: {'xgb_n_estimators': 554, 'xgb_max_depth': 6, 'xgb_max_leaves': 7, 'xgb_learning_rate': 0.06941584731058374, 'xgb_booster': 'dart', 'xgb_gamma': 0.26185134954570966, 'xgb_reg_alpha': 0.5812142733135204, 'xgb_reg_lambda': 0.9280058583957582, 'reglog_C': 7.182348851176332, 'reglog_fit_intercept': False, 'reglog_l1_ratio': 0.5883510806986165}. Best is trial 0 with value: 0.0.\n",
      "/Users/rixon/anaconda3/lib/python3.11/site-packages/sklearn/utils/validation.py:1184: DataConversionWarning: A column-vector y was passed when a 1d array was expected. Please change the shape of y to (n_samples, ), for example using ravel().\n",
      "  y = column_or_1d(y, warn=True)\n",
      "[I 2024-03-07 01:49:02,822] Trial 3 finished with value: 0.0 and parameters: {'xgb_n_estimators': 913, 'xgb_max_depth': 10, 'xgb_max_leaves': 4, 'xgb_learning_rate': 0.06767470114353823, 'xgb_booster': 'gbtree', 'xgb_gamma': 0.14828298052639605, 'xgb_reg_alpha': 0.25808230373449514, 'xgb_reg_lambda': 0.628156858830032, 'reglog_C': 3.2631945098361865, 'reglog_fit_intercept': False, 'reglog_l1_ratio': 0.28444452741849613}. Best is trial 0 with value: 0.0.\n",
      "/Users/rixon/anaconda3/lib/python3.11/site-packages/sklearn/utils/validation.py:1184: DataConversionWarning: A column-vector y was passed when a 1d array was expected. Please change the shape of y to (n_samples, ), for example using ravel().\n",
      "  y = column_or_1d(y, warn=True)\n",
      "[I 2024-03-07 01:49:02,918] Trial 4 finished with value: 0.0 and parameters: {'xgb_n_estimators': 226, 'xgb_max_depth': 10, 'xgb_max_leaves': 8, 'xgb_learning_rate': 0.20012150870086273, 'xgb_booster': 'gbtree', 'xgb_gamma': 0.355587437683597, 'xgb_reg_alpha': 0.6407298365527824, 'xgb_reg_lambda': 0.14999619220133334, 'reglog_C': 1.6301114254167275, 'reglog_fit_intercept': True, 'reglog_l1_ratio': 0.68102332920814}. Best is trial 0 with value: 0.0.\n",
      "/Users/rixon/anaconda3/lib/python3.11/site-packages/xgboost/core.py:160: UserWarning: [01:49:02] WARNING: /Users/runner/work/xgboost/xgboost/src/learner.cc:742: \n",
      "Parameters: { \"gamma\", \"max_depth\", \"max_leaves\" } are not used.\n",
      "\n",
      "  warnings.warn(smsg, UserWarning)\n",
      "/Users/rixon/anaconda3/lib/python3.11/site-packages/sklearn/utils/validation.py:1184: DataConversionWarning: A column-vector y was passed when a 1d array was expected. Please change the shape of y to (n_samples, ), for example using ravel().\n",
      "  y = column_or_1d(y, warn=True)\n",
      "[I 2024-03-07 01:49:03,044] Trial 5 finished with value: 0.0 and parameters: {'xgb_n_estimators': 781, 'xgb_max_depth': 8, 'xgb_max_leaves': 7, 'xgb_learning_rate': 0.018721971450438028, 'xgb_booster': 'gblinear', 'xgb_gamma': 0.1711136580367079, 'xgb_reg_alpha': 0.7417232415421561, 'xgb_reg_lambda': 0.6950310860740614, 'reglog_C': 5.844103541451002, 'reglog_fit_intercept': True, 'reglog_l1_ratio': 0.6504782379295494}. Best is trial 0 with value: 0.0.\n",
      "/Users/rixon/anaconda3/lib/python3.11/site-packages/sklearn/utils/validation.py:1184: DataConversionWarning: A column-vector y was passed when a 1d array was expected. Please change the shape of y to (n_samples, ), for example using ravel().\n",
      "  y = column_or_1d(y, warn=True)\n",
      "[I 2024-03-07 01:49:11,733] Trial 6 finished with value: 0.0 and parameters: {'xgb_n_estimators': 739, 'xgb_max_depth': 7, 'xgb_max_leaves': 5, 'xgb_learning_rate': 0.21826362328552879, 'xgb_booster': 'dart', 'xgb_gamma': 0.40680631227564573, 'xgb_reg_alpha': 0.70777540162249, 'xgb_reg_lambda': 0.6315295424838134, 'reglog_C': 4.220580674085892, 'reglog_fit_intercept': False, 'reglog_l1_ratio': 0.3331291522185782}. Best is trial 0 with value: 0.0.\n",
      "/Users/rixon/anaconda3/lib/python3.11/site-packages/sklearn/utils/validation.py:1184: DataConversionWarning: A column-vector y was passed when a 1d array was expected. Please change the shape of y to (n_samples, ), for example using ravel().\n",
      "  y = column_or_1d(y, warn=True)\n",
      "[I 2024-03-07 01:49:11,821] Trial 7 finished with value: 0.0 and parameters: {'xgb_n_estimators': 217, 'xgb_max_depth': 6, 'xgb_max_leaves': 8, 'xgb_learning_rate': 0.23223060482911553, 'xgb_booster': 'gbtree', 'xgb_gamma': 0.5230150595008154, 'xgb_reg_alpha': 0.5150700568168045, 'xgb_reg_lambda': 0.7770662165138074, 'reglog_C': 1.2515597588709377, 'reglog_fit_intercept': False, 'reglog_l1_ratio': 0.8884520931823684}. Best is trial 0 with value: 0.0.\n",
      "/Users/rixon/anaconda3/lib/python3.11/site-packages/xgboost/core.py:160: UserWarning: [01:49:11] WARNING: /Users/runner/work/xgboost/xgboost/src/learner.cc:742: \n",
      "Parameters: { \"gamma\", \"max_depth\", \"max_leaves\" } are not used.\n",
      "\n",
      "  warnings.warn(smsg, UserWarning)\n",
      "/Users/rixon/anaconda3/lib/python3.11/site-packages/sklearn/utils/validation.py:1184: DataConversionWarning: A column-vector y was passed when a 1d array was expected. Please change the shape of y to (n_samples, ), for example using ravel().\n",
      "  y = column_or_1d(y, warn=True)\n",
      "[I 2024-03-07 01:49:11,924] Trial 8 finished with value: 0.0 and parameters: {'xgb_n_estimators': 619, 'xgb_max_depth': 9, 'xgb_max_leaves': 5, 'xgb_learning_rate': 0.2854515520942215, 'xgb_booster': 'gblinear', 'xgb_gamma': 0.47646421022057495, 'xgb_reg_alpha': 0.26215136637563097, 'xgb_reg_lambda': 0.11391579501123668, 'reglog_C': 0.5887100855829388, 'reglog_fit_intercept': False, 'reglog_l1_ratio': 0.6855701918887477}. Best is trial 0 with value: 0.0.\n",
      "/Users/rixon/anaconda3/lib/python3.11/site-packages/sklearn/utils/validation.py:1184: DataConversionWarning: A column-vector y was passed when a 1d array was expected. Please change the shape of y to (n_samples, ), for example using ravel().\n",
      "  y = column_or_1d(y, warn=True)\n",
      "[I 2024-03-07 01:49:22,846] Trial 9 finished with value: 0.0 and parameters: {'xgb_n_estimators': 826, 'xgb_max_depth': 10, 'xgb_max_leaves': 5, 'xgb_learning_rate': 0.23185109781606147, 'xgb_booster': 'dart', 'xgb_gamma': 0.6631320572412827, 'xgb_reg_alpha': 0.8370659777805488, 'xgb_reg_lambda': 0.45434456644516413, 'reglog_C': 3.837398312991832, 'reglog_fit_intercept': True, 'reglog_l1_ratio': 0.35939804368379835}. Best is trial 0 with value: 0.0.\n"
     ]
    },
    {
     "name": "stdout",
     "output_type": "stream",
     "text": [
      "F1 Score: 0.0\n",
      "Best hyperparameters: {'xgb_n_estimators': 218, 'xgb_max_depth': 3, 'xgb_max_leaves': 4, 'xgb_learning_rate': 0.09379131701752791, 'xgb_booster': 'gblinear', 'xgb_gamma': 0.9128520641228278, 'xgb_reg_alpha': 0.577027958265575, 'xgb_reg_lambda': 0.5545544635215536, 'reglog_C': 6.529817315255884, 'reglog_fit_intercept': True, 'reglog_l1_ratio': 0.953820904767933}\n",
      "Execution time: 0.4291435162226359 minutes\n"
     ]
    },
    {
     "data": {
      "text/plain": "{'xgb_n_estimators': 218,\n 'xgb_max_depth': 3,\n 'xgb_max_leaves': 4,\n 'xgb_learning_rate': 0.09379131701752791,\n 'xgb_booster': 'gblinear',\n 'xgb_gamma': 0.9128520641228278,\n 'xgb_reg_alpha': 0.577027958265575,\n 'xgb_reg_lambda': 0.5545544635215536,\n 'reglog_C': 6.529817315255884,\n 'reglog_fit_intercept': True,\n 'reglog_l1_ratio': 0.953820904767933}"
     },
     "execution_count": 4,
     "metadata": {},
     "output_type": "execute_result"
    }
   ],
   "source": [
    "combined_optimizer = Combined_xgb_logreg(x_train, y_train, x_test, y_test)\n",
    "combined_optimizer.combined_optuna()"
   ],
   "metadata": {
    "collapsed": false,
    "ExecuteTime": {
     "end_time": "2024-03-07T07:49:22.853553Z",
     "start_time": "2024-03-07T07:48:57.100831Z"
    }
   },
   "id": "376fc64799bdf518"
  }
 ],
 "metadata": {
  "kernelspec": {
   "display_name": "Python 3",
   "language": "python",
   "name": "python3"
  },
  "language_info": {
   "codemirror_mode": {
    "name": "ipython",
    "version": 2
   },
   "file_extension": ".py",
   "mimetype": "text/x-python",
   "name": "python",
   "nbconvert_exporter": "python",
   "pygments_lexer": "ipython2",
   "version": "2.7.6"
  }
 },
 "nbformat": 4,
 "nbformat_minor": 5
}
